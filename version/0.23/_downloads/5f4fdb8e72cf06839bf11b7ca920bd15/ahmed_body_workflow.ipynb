{
  "cells": [
    {
      "cell_type": "markdown",
      "metadata": {},
      "source": [
        "\n# Ahmed Body External Aerodynamics Simulation\n"
      ]
    },
    {
      "cell_type": "markdown",
      "metadata": {},
      "source": [
        "## Objective\n\nAhmed body is a simplified car model used for studying the flow around it and to\npredict the drag and lift forces. The model consists of a slanted back and a blunt\nfront.\n\nIn this example, PyFluent API is used to perform Ahmed Body external aerodynamics\nsimulation. which includes typical workflow of CFD Simulation as follows:\n\n* Importing the geometry/CAD model.\n* Meshing the geometry.\n* Setting up the solver.\n* Running the solver.\n* Post-processing the results.\n\n\n\n<img src=\"file://../../_static/ahmed_body_model.png\" align=\"center\" alt=\"Ahmed Body Model\">\n\n"
      ]
    },
    {
      "cell_type": "markdown",
      "metadata": {},
      "source": [
        "## Import required libraries/modules\n\n"
      ]
    },
    {
      "cell_type": "code",
      "execution_count": null,
      "metadata": {
        "collapsed": false
      },
      "outputs": [],
      "source": [
        "from pathlib import Path\n\nimport ansys.fluent.core as pyfluent\nfrom ansys.fluent.core import examples\nfrom ansys.fluent.visualization import set_config\nimport ansys.fluent.visualization.pyvista as pv"
      ]
    },
    {
      "cell_type": "markdown",
      "metadata": {},
      "source": [
        "## Specifying save path\nsave_path can be specified as Path(\"E:/\", \"pyfluent-examples-tests\") or\nPath(\"E:/pyfluent-examples-tests\") in a Windows machine for example,  or\nPath(\"~/pyfluent-examples-tests\") in Linux.\n\n"
      ]
    },
    {
      "cell_type": "code",
      "execution_count": null,
      "metadata": {
        "collapsed": false
      },
      "outputs": [],
      "source": [
        "save_path = Path(pyfluent.EXAMPLES_PATH)"
      ]
    },
    {
      "cell_type": "markdown",
      "metadata": {},
      "source": [
        "## Configure specific settings for this example\n\n"
      ]
    },
    {
      "cell_type": "code",
      "execution_count": null,
      "metadata": {
        "collapsed": false
      },
      "outputs": [],
      "source": [
        "set_config(blocking=True, set_view_on_display=\"isometric\")"
      ]
    },
    {
      "cell_type": "markdown",
      "metadata": {},
      "source": [
        "## Launch Fluent session with meshing mode\n\n"
      ]
    },
    {
      "cell_type": "code",
      "execution_count": null,
      "metadata": {
        "collapsed": false
      },
      "outputs": [],
      "source": [
        "session = pyfluent.launch_fluent(mode=\"meshing\", cleanup_on_exit=True)\nsession.health_check.status()"
      ]
    },
    {
      "cell_type": "markdown",
      "metadata": {},
      "source": [
        "## Meshing Workflow\n\n"
      ]
    },
    {
      "cell_type": "markdown",
      "metadata": {},
      "source": [
        "## Initialize the Meshing Workflow\n\n"
      ]
    },
    {
      "cell_type": "code",
      "execution_count": null,
      "metadata": {
        "collapsed": false
      },
      "outputs": [],
      "source": [
        "workflow = session.workflow\ngeometry_filename = examples.download_file(\n    \"ahmed_body_20_0degree_boi_half.scdoc\",\n    \"pyfluent/examples/Ahmed-Body-Simulation\",\n    save_path=save_path,\n)\nworkflow.InitializeWorkflow(WorkflowType=\"Watertight Geometry\")\nworkflow.TaskObject[\"Import Geometry\"].Arguments = dict(FileName=geometry_filename)\nworkflow.TaskObject[\"Import Geometry\"].Execute()"
      ]
    },
    {
      "cell_type": "markdown",
      "metadata": {},
      "source": [
        "## Add Local Face Sizing\n\n"
      ]
    },
    {
      "cell_type": "code",
      "execution_count": null,
      "metadata": {
        "collapsed": false
      },
      "outputs": [],
      "source": [
        "add_local_sizing = workflow.TaskObject[\"Add Local Sizing\"]\nadd_local_sizing.Arguments = dict(\n    {\n        \"AddChild\": \"yes\",\n        \"BOIControlName\": \"facesize_front\",\n        \"BOIFaceLabelList\": [\"wall_ahmed_body_front\"],\n        \"BOIGrowthRate\": 1.15,\n        \"BOISize\": 8,\n    }\n)\nadd_local_sizing.Execute()\n\nadd_local_sizing.InsertCompoundChildTask()\nworkflow.TaskObject[\"Add Local Sizing\"].Execute()\nadd_local_sizing = workflow.TaskObject[\"Add Local Sizing\"]\nadd_local_sizing.Arguments = dict(\n    {\n        \"AddChild\": \"yes\",\n        \"BOIControlName\": \"facesize_rear\",\n        \"BOIFaceLabelList\": [\"wall_ahmed_body_rear\"],\n        \"BOIGrowthRate\": 1.15,\n        \"BOISize\": 5,\n    }\n)\nadd_local_sizing.Execute()\n\nadd_local_sizing.InsertCompoundChildTask()\nworkflow.TaskObject[\"Add Local Sizing\"].Execute()\nadd_local_sizing = workflow.TaskObject[\"Add Local Sizing\"]\nadd_local_sizing.Arguments = dict(\n    {\n        \"AddChild\": \"yes\",\n        \"BOIControlName\": \"facesize_main\",\n        \"BOIFaceLabelList\": [\"wall_ahmed_body_main\"],\n        \"BOIGrowthRate\": 1.15,\n        \"BOISize\": 12,\n    }\n)\nadd_local_sizing.Execute()"
      ]
    },
    {
      "cell_type": "markdown",
      "metadata": {},
      "source": [
        "## Add BOI (Body of Influence) Sizing\n\n"
      ]
    },
    {
      "cell_type": "code",
      "execution_count": null,
      "metadata": {
        "collapsed": false
      },
      "outputs": [],
      "source": [
        "add_boi_sizing = workflow.TaskObject[\"Add Local Sizing\"]\nadd_boi_sizing.InsertCompoundChildTask()\nadd_boi_sizing.Arguments = dict(\n    {\n        \"AddChild\": \"yes\",\n        \"BOIControlName\": \"boi_1\",\n        \"BOIExecution\": \"Body Of Influence\",\n        \"BOIFaceLabelList\": [\"ahmed_body_20_0degree_boi_half-boi\"],\n        \"BOISize\": 20,\n    }\n)\nadd_boi_sizing.Execute()\nadd_boi_sizing.InsertCompoundChildTask()"
      ]
    },
    {
      "cell_type": "markdown",
      "metadata": {},
      "source": [
        "## Add Surface Mesh Sizing\n\n"
      ]
    },
    {
      "cell_type": "code",
      "execution_count": null,
      "metadata": {
        "collapsed": false
      },
      "outputs": [],
      "source": [
        "generate_surface_mesh = workflow.TaskObject[\"Generate the Surface Mesh\"]\ngenerate_surface_mesh.Arguments = dict(\n    {\n        \"CFDSurfaceMeshControls\": {\n            \"CurvatureNormalAngle\": 12,\n            \"GrowthRate\": 1.15,\n            \"MaxSize\": 50,\n            \"MinSize\": 1,\n            \"SizeFunctions\": \"Curvature\",\n        }\n    }\n)\n\ngenerate_surface_mesh.Execute()\ngenerate_surface_mesh.InsertNextTask(CommandName=\"ImproveSurfaceMesh\")\nimprove_surface_mesh = workflow.TaskObject[\"Improve Surface Mesh\"]\nimprove_surface_mesh.Arguments.update_dict({\"FaceQualityLimit\": 0.4})\nimprove_surface_mesh.Execute()"
      ]
    },
    {
      "cell_type": "markdown",
      "metadata": {},
      "source": [
        "## Describe Geometry, Update Boundaries, Update Regions\n\n"
      ]
    },
    {
      "cell_type": "code",
      "execution_count": null,
      "metadata": {
        "collapsed": false
      },
      "outputs": [],
      "source": [
        "workflow.TaskObject[\"Describe Geometry\"].Arguments = dict(\n    CappingRequired=\"Yes\",\n    SetupType=\"The geometry consists of only fluid regions with no voids\",\n)\nworkflow.TaskObject[\"Describe Geometry\"].Execute()\nworkflow.TaskObject[\"Update Boundaries\"].Execute()\nworkflow.TaskObject[\"Update Regions\"].Execute()"
      ]
    },
    {
      "cell_type": "markdown",
      "metadata": {},
      "source": [
        "## Add Boundary Layers\n\n"
      ]
    },
    {
      "cell_type": "code",
      "execution_count": null,
      "metadata": {
        "collapsed": false
      },
      "outputs": [],
      "source": [
        "add_boundary_layers = workflow.TaskObject[\"Add Boundary Layers\"]\nadd_boundary_layers.AddChildToTask()\nadd_boundary_layers.InsertCompoundChildTask()\nworkflow.TaskObject[\"smooth-transition_1\"].Arguments.update_dict(\n    {\n        \"BLControlName\": \"smooth-transition_1\",\n        \"NumberOfLayers\": 14,\n        \"Rate\": 1.15,\n        \"TransitionRatio\": 0.5,\n    }\n)\nadd_boundary_layers.Execute()"
      ]
    },
    {
      "cell_type": "markdown",
      "metadata": {},
      "source": [
        "## Generate the Volume Mesh\n\n"
      ]
    },
    {
      "cell_type": "code",
      "execution_count": null,
      "metadata": {
        "collapsed": false
      },
      "outputs": [],
      "source": [
        "generate_volume_mesh = workflow.TaskObject[\"Generate the Volume Mesh\"]\ngenerate_volume_mesh.Arguments.update_dict({\"VolumeFill\": \"poly-hexcore\"})\ngenerate_volume_mesh.Execute()"
      ]
    },
    {
      "cell_type": "markdown",
      "metadata": {},
      "source": [
        "## Switch to the Solver Mode\n\n"
      ]
    },
    {
      "cell_type": "code",
      "execution_count": null,
      "metadata": {
        "collapsed": false
      },
      "outputs": [],
      "source": [
        "session = session.switch_to_solver()"
      ]
    },
    {
      "cell_type": "markdown",
      "metadata": {},
      "source": [
        "## Mesh Visualization\n\n"
      ]
    },
    {
      "cell_type": "markdown",
      "metadata": {},
      "source": [
        "<img src=\"file://../../_static/ahmed_body_mesh_1.png\" align=\"center\" alt=\"Ahmed Body Mesh\">\n\n"
      ]
    },
    {
      "cell_type": "markdown",
      "metadata": {},
      "source": [
        "<img src=\"file://../../_static/ahmed_body_mesh_2.png\" align=\"center\" alt=\"Ahmed Body Mesh\">\n\n"
      ]
    },
    {
      "cell_type": "markdown",
      "metadata": {},
      "source": [
        "## Solver Setup and Solve Workflow\n\n"
      ]
    },
    {
      "cell_type": "markdown",
      "metadata": {},
      "source": [
        "## Define Constants\n\n"
      ]
    },
    {
      "cell_type": "code",
      "execution_count": null,
      "metadata": {
        "collapsed": false
      },
      "outputs": [],
      "source": [
        "density = 1.225\ninlet_velocity = 30\ninlet_area = 0.11203202"
      ]
    },
    {
      "cell_type": "markdown",
      "metadata": {},
      "source": [
        "## Define Materials\n\n"
      ]
    },
    {
      "cell_type": "code",
      "execution_count": null,
      "metadata": {
        "collapsed": false
      },
      "outputs": [],
      "source": [
        "session.tui.define.materials.change_create(\"air\", \"air\", \"yes\", \"constant\", density)\nsession.settings.setup.models.viscous.model = \"k-epsilon\"\nsession.settings.setup.models.viscous.k_epsilon_model = \"realizable\"\nsession.settings.setup.models.viscous.options.curvature_correction = True"
      ]
    },
    {
      "cell_type": "markdown",
      "metadata": {},
      "source": [
        "## Define Boundary Conditions\n\n"
      ]
    },
    {
      "cell_type": "code",
      "execution_count": null,
      "metadata": {
        "collapsed": false
      },
      "outputs": [],
      "source": [
        "inlet = session.settings.setup.boundary_conditions.velocity_inlet[\"inlet\"]\ninlet.turbulence.turb_intensity = 0.05\ninlet.momentum.velocity.value = inlet_velocity\ninlet.turbulence.turb_viscosity_ratio = 5\n\noutlet = session.settings.setup.boundary_conditions.pressure_outlet[\"outlet\"]\noutlet.turbulence.turb_intensity = 0.05"
      ]
    },
    {
      "cell_type": "markdown",
      "metadata": {},
      "source": [
        "## Define Reference Values\n\n"
      ]
    },
    {
      "cell_type": "code",
      "execution_count": null,
      "metadata": {
        "collapsed": false
      },
      "outputs": [],
      "source": [
        "session.settings.setup.reference_values.area = inlet_area\nsession.settings.setup.reference_values.density = density\nsession.settings.setup.reference_values.velocity = inlet_velocity"
      ]
    },
    {
      "cell_type": "markdown",
      "metadata": {},
      "source": [
        "## Define Solver Settings\n\n"
      ]
    },
    {
      "cell_type": "code",
      "execution_count": null,
      "metadata": {
        "collapsed": false
      },
      "outputs": [],
      "source": [
        "session.tui.solve.set.p_v_coupling(24)\n\nsession.tui.solve.set.discretization_scheme(\"pressure\", 12)\nsession.tui.solve.set.discretization_scheme(\"k\", 1)\nsession.tui.solve.set.discretization_scheme(\"epsilon\", 1)\nsession.tui.solve.initialize.set_defaults(\"k\", 0.000001)\n\nsession.settings.solution.monitor.residual.equations[\"continuity\"].absolute_criteria = (\n    0.0001\n)\nsession.settings.solution.monitor.residual.equations[\"x-velocity\"].absolute_criteria = (\n    0.0001\n)\nsession.settings.solution.monitor.residual.equations[\"y-velocity\"].absolute_criteria = (\n    0.0001\n)\nsession.settings.solution.monitor.residual.equations[\"z-velocity\"].absolute_criteria = (\n    0.0001\n)\nsession.settings.solution.monitor.residual.equations[\"k\"].absolute_criteria = 0.0001\nsession.settings.solution.monitor.residual.equations[\"epsilon\"].absolute_criteria = (\n    0.0001\n)"
      ]
    },
    {
      "cell_type": "markdown",
      "metadata": {},
      "source": [
        "## Define Report Definitions\n\n"
      ]
    },
    {
      "cell_type": "code",
      "execution_count": null,
      "metadata": {
        "collapsed": false
      },
      "outputs": [],
      "source": [
        "session.settings.solution.report_definitions.drag[\"cd-mon1\"] = {}\nsession.settings.solution.report_definitions.drag[\"cd-mon1\"] = {\n    \"zones\": [\"wall_ahmed_body_main\", \"wall_ahmed_body_front\", \"wall_ahmed_body_rear\"],\n    \"force_vector\": [0, 0, 1],\n}\nsession.parameters.output_parameters.report_definitions.create(name=\"parameter-1\")\nsession.parameters.output_parameters.report_definitions[\"parameter-1\"] = {\n    \"report_definition\": \"cd-mon1\"\n}\n\nsession.settings.solution.monitor.report_plots.create(name=\"cd-mon1\")\nsession.settings.solution.monitor.report_plots[\"cd-mon1\"] = {\"report_defs\": [\"cd-mon1\"]}"
      ]
    },
    {
      "cell_type": "markdown",
      "metadata": {},
      "source": [
        "## Initialize and Run Solver\n\n"
      ]
    },
    {
      "cell_type": "code",
      "execution_count": null,
      "metadata": {
        "collapsed": false
      },
      "outputs": [],
      "source": [
        "session.settings.solution.run_calculation.iter_count = 5\nsession.settings.solution.initialization.initialization_type = \"standard\"\nsession.settings.solution.initialization.standard_initialize()\nsession.settings.solution.run_calculation.iterate(iter_count=5)"
      ]
    },
    {
      "cell_type": "markdown",
      "metadata": {},
      "source": [
        "## Post-Processing Workflow\n\n"
      ]
    },
    {
      "cell_type": "code",
      "execution_count": null,
      "metadata": {
        "collapsed": false
      },
      "outputs": [],
      "source": [
        "session.results.surfaces.iso_surface.create(name=\"xmid\")\nsession.results.surfaces.iso_surface[\"xmid\"].field = \"x-coordinate\"\nsession.results.surfaces.iso_surface[\"xmid\"] = {\"iso_values\": [0]}\n\ngraphics_session1 = pv.Graphics(session)\ncontour1 = graphics_session1.Contours[\"contour-1\"]\ncontour1.field = \"velocity-magnitude\"\ncontour1.surfaces_list = [\"xmid\"]\ncontour1.display(\"window-1\")\n\ncontour2 = graphics_session1.Contours[\"contour-2\"]\ncontour2.field.allowed_values\ncontour2.field = \"pressure-coefficient\"\ncontour2.surfaces_list = [\"xmid\"]\ncontour2.display(\"window-2\")"
      ]
    },
    {
      "cell_type": "markdown",
      "metadata": {},
      "source": [
        "## Simulation Results Visualization\n\n"
      ]
    },
    {
      "cell_type": "markdown",
      "metadata": {},
      "source": [
        "<img src=\"file://../../_static/ahmed_body_model_velocity_mag.png\" align=\"center\" alt=\"Velocity Magnitude\">\n\n"
      ]
    },
    {
      "cell_type": "markdown",
      "metadata": {},
      "source": [
        "Velocity Magnitude Contour\n\n"
      ]
    },
    {
      "cell_type": "markdown",
      "metadata": {},
      "source": [
        "<img src=\"file://../../_static/ahmed_body_model_pressure_coeff.png\" align=\"center\" alt=\"Peressure Coefficient\">\n\n"
      ]
    },
    {
      "cell_type": "markdown",
      "metadata": {},
      "source": [
        "Pressure Coefficient Contour\n\n"
      ]
    },
    {
      "cell_type": "markdown",
      "metadata": {},
      "source": [
        "## Save the case file\n\n"
      ]
    },
    {
      "cell_type": "code",
      "execution_count": null,
      "metadata": {
        "collapsed": false
      },
      "outputs": [],
      "source": [
        "save_case_data_as = Path(save_path) / \"ahmed_body_final.cas.h5\"\nsession.settings.file.write(file_type=\"case-data\", file_name=str(save_case_data_as))"
      ]
    },
    {
      "cell_type": "markdown",
      "metadata": {},
      "source": [
        "## Close the session\n\n"
      ]
    },
    {
      "cell_type": "code",
      "execution_count": null,
      "metadata": {
        "collapsed": false
      },
      "outputs": [],
      "source": [
        "session.exit()"
      ]
    },
    {
      "cell_type": "markdown",
      "metadata": {},
      "source": [
        "## References\n\n[1] S.R. Ahmed, G. Ramm, Some Salient Features of the Time-Averaged Ground Vehicle\nWake,SAE-Paper 840300,1984\n\n"
      ]
    }
  ],
  "metadata": {
    "kernelspec": {
      "display_name": "Python 3",
      "language": "python",
      "name": "python3"
    },
    "language_info": {
      "codemirror_mode": {
        "name": "ipython",
        "version": 3
      },
      "file_extension": ".py",
      "mimetype": "text/x-python",
      "name": "python",
      "nbconvert_exporter": "python",
      "pygments_lexer": "ipython3",
      "version": "3.11.9"
    }
  },
  "nbformat": 4,
  "nbformat_minor": 0
}