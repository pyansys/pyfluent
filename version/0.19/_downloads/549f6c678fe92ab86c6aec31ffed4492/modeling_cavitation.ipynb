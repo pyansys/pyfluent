{
  "cells": [
    {
      "cell_type": "markdown",
      "metadata": {},
      "source": [
        "\n# Modeling Cavitation\nThis example examines the pressure-driven cavitating flow of water through a\nsharp-edged orifice. This is a typical configuration in fuel injectors, and\nbrings a challenge to the physics and numerics of cavitation models because of\nthe high pressure differentials involved and the high ratio of liquid to vapor\ndensity.\n\nThis example uses the multiphase modeling capability of Ansys Fluent, and will\nbe able to predict the strong cavitation near the orifice after flow separation\nat a sharp edge.\n\n**Workflow tasks**\n\nThis example demonstrates how to do the following:\n\n- Set boundary conditions for internal flow\n- Use the mixture model with cavitation effects\n- Calculate a solution using the pressure-based coupled solver\n\n**Problem description**\n\nThe problem considers the cavitation caused by the flow separation after a\nsharp-edged orifice. The flow is pressure driven, with an inlet pressure of 500\nkPa and an outlet pressure of 95 kPa. The orifice diameter is 4 mm, and the\ngeometrical parameters of the orifice are D/d = 2.88 and L/d = 4, where D, d,\nand L are the inlet diameter, orifice diameter, and orifice length respectively.\n"
      ]
    },
    {
      "cell_type": "markdown",
      "metadata": {},
      "source": [
        "# Example Setup\nBefore you can begin, you must set up the example and initialize this\nworkflow.\n\n## Launch Fluent\nPerform required imports, which includes downloading and importing\nthe geometry file.\n\n"
      ]
    },
    {
      "cell_type": "code",
      "execution_count": null,
      "metadata": {
        "collapsed": false
      },
      "outputs": [],
      "source": [
        "import ansys.fluent.core as pyfluent\nfrom ansys.fluent.core import examples\n\ncav_file = examples.download_file(\"cav.msh.gz\", \"pyfluent/cavitation\")"
      ]
    },
    {
      "cell_type": "markdown",
      "metadata": {},
      "source": [
        "Launch a Fluent session in the 2d solution mode with double precision running\non four processors.\n\n"
      ]
    },
    {
      "cell_type": "code",
      "execution_count": null,
      "metadata": {
        "collapsed": false
      },
      "outputs": [],
      "source": [
        "solver = pyfluent.launch_fluent(\n    precision=\"double\",\n    processor_count=4,\n    mode=\"solver\",\n    version=\"2d\",\n)"
      ]
    },
    {
      "cell_type": "markdown",
      "metadata": {},
      "source": [
        "Read the mesh that was downloaded.\n\n"
      ]
    },
    {
      "cell_type": "code",
      "execution_count": null,
      "metadata": {
        "collapsed": false
      },
      "outputs": [],
      "source": [
        "solver.file.read_mesh(file_name=cav_file)\n\nsolver.mesh.check()"
      ]
    },
    {
      "cell_type": "markdown",
      "metadata": {},
      "source": [
        "Specify an axisymmetric model.\n\n"
      ]
    },
    {
      "cell_type": "code",
      "execution_count": null,
      "metadata": {
        "collapsed": false
      },
      "outputs": [],
      "source": [
        "solver.setup.general.solver.two_dim_space = \"axisymmetric\""
      ]
    },
    {
      "cell_type": "markdown",
      "metadata": {},
      "source": [
        "Enable the multiphase mixture model.\n\n"
      ]
    },
    {
      "cell_type": "code",
      "execution_count": null,
      "metadata": {
        "collapsed": false
      },
      "outputs": [],
      "source": [
        "solver.setup.models.multiphase.models = \"mixture\"\n\nsolver.tui.define.models.multiphase.mixture_parameters(\"no\", \"implicit\")"
      ]
    },
    {
      "cell_type": "markdown",
      "metadata": {},
      "source": [
        "Enable the k-\u03c9 SST turbulence model.\n\n"
      ]
    },
    {
      "cell_type": "code",
      "execution_count": null,
      "metadata": {
        "collapsed": false
      },
      "outputs": [],
      "source": [
        "solver.setup.models.viscous = {\n    \"model\": \"k-omega\",\n    \"k_omega_model\": \"sst\",\n}"
      ]
    },
    {
      "cell_type": "markdown",
      "metadata": {},
      "source": [
        "## Define materials\nCreate a material named water, using 1000 kg/m3 for density and 0.001 kg/m\u2013s\nfor viscosity. Then, copy water vapor properties from the database and modify\nthe copy by changing the density to 0.02558 kg/m3 and the viscosity to\n1.26e-06 kg/m\u2013s.\n\n"
      ]
    },
    {
      "cell_type": "code",
      "execution_count": null,
      "metadata": {
        "collapsed": false
      },
      "outputs": [],
      "source": [
        "solver.setup.materials.fluid[\"water\"] = {\n    \"density\": {\n        \"option\": \"constant\",\n        \"value\": 1000,\n    },\n    \"viscosity\": {\n        \"option\": \"constant\",\n        \"value\": 0.001,\n    },\n}\n\nsolver.setup.materials.database.copy_by_name(type=\"fluid\", name=\"water-vapor\")\n\nsolver.setup.materials.fluid[\"water-vapor\"] = {\n    \"density\": {\"value\": 0.02558},\n    \"viscosity\": {\"value\": 1.26e-06},\n}"
      ]
    },
    {
      "cell_type": "markdown",
      "metadata": {},
      "source": [
        "## Phases\nChange the name of the primary phase to \"liquid\" and the secondary phase to\n\"water-vapor\". Then, enable the cavitation model and set the number of mass\ntransfer mechanisms to 1. Finally, specify cavitation as a mass transfer\nmechanism occurring from the liquid to the vapor.\n\n"
      ]
    },
    {
      "cell_type": "code",
      "execution_count": null,
      "metadata": {
        "collapsed": false
      },
      "outputs": [],
      "source": [
        "solver.tui.define.phases.set_domain_properties.change_phases_names(\"vapor\", \"liquid\")\n\nsolver.tui.define.phases.set_domain_properties.phase_domains.liquid.material(\n    \"yes\", \"water\"\n)\n\nsolver.tui.define.phases.set_domain_properties.phase_domains.vapor.material(\n    \"yes\", \"water-vapor\"\n)\n\nsolver.tui.define.phases.set_domain_properties.interaction_domain.heat_mass_reactions.mass_transfer(\n    1, \"liquid\", \"vapor\", \"cavitation\", \"1\", \"no\", \"no\", \"no\"\n)"
      ]
    },
    {
      "cell_type": "markdown",
      "metadata": {},
      "source": [
        "## Boundary Conditions\nFor the first inlet momentum boundary conditions set the direction\nspecification method to 'normal to boundary', gauge total pressure as 500 kPa\nand supersonic or initial gauge pressure as 449 kPa.\n\nFor the turbulence settings choose 'Intensity and Viscosity Ratio' for\nturbulent specification. Set turbulent intensity and turbulent viscosity\nratio to 0.05 and 10 respectively.\n\n"
      ]
    },
    {
      "cell_type": "code",
      "execution_count": null,
      "metadata": {
        "collapsed": false
      },
      "outputs": [],
      "source": [
        "inlet_1 = solver.setup.boundary_conditions.pressure_inlet[\"inlet_1\"].phase\n\ninlet_1[\"mixture\"] = {\n    \"momentum\": {\n        \"gauge_total_pressure\": {\"value\": 500000},\n        \"supersonic_or_initial_gauge_pressure\": {\"value\": 449000},\n        \"direction_specification_method\": \"Normal to Boundary\",\n    },\n    \"turbulence\": {\n        \"turbulent_specification\": \"Intensity and Viscosity Ratio\",\n        \"turbulent_intensity\": 0.05,\n        \"turbulent_viscosity_ratio_real\": 10,\n    },\n}"
      ]
    },
    {
      "cell_type": "markdown",
      "metadata": {},
      "source": [
        "Before copying inlet_1's boundary conditions to inlet_2, set the vapor fraction\nto 0.\n\n"
      ]
    },
    {
      "cell_type": "code",
      "execution_count": null,
      "metadata": {
        "collapsed": false
      },
      "outputs": [],
      "source": [
        "inlet_1[\"vapor\"] = {\n    \"multiphase\": {\n        \"volume_fraction\": {\"value\": 0},\n    },\n}\n\nsolver.setup.boundary_conditions.copy(from_=\"inlet_1\", to=\"inlet_2\")"
      ]
    },
    {
      "cell_type": "markdown",
      "metadata": {},
      "source": [
        "For the outlet boundary conditions, set the gauge pressure as 95 kPa. Use\nthe same turbulence and volume fraction settings as the inlets.\n\n"
      ]
    },
    {
      "cell_type": "code",
      "execution_count": null,
      "metadata": {
        "collapsed": false
      },
      "outputs": [],
      "source": [
        "outlet = solver.setup.boundary_conditions.pressure_outlet[\"outlet\"].phase\n\noutlet[\"mixture\"] = {\n    \"momentum\": {\n        \"gauge_pressure\": {\"value\": 95000},\n    },\n    \"turbulence\": {\n        \"turbulent_specification\": \"Intensity and Viscosity Ratio\",\n        \"turbulent_intensity\": 0.04,\n        \"turbulent_viscosity_ratio_real\": 10,\n    },\n}\n\noutlet[\"vapor\"] = {\n    \"multiphase\": {\n        \"volume_fraction\": {\"value\": 0},\n    },\n}"
      ]
    },
    {
      "cell_type": "markdown",
      "metadata": {},
      "source": [
        "## Operating Conditions\nSet the operating pressure to 0.\n\n"
      ]
    },
    {
      "cell_type": "code",
      "execution_count": null,
      "metadata": {
        "collapsed": false
      },
      "outputs": [],
      "source": [
        "solver.setup.general.operating_conditions.operating_pressure = 0"
      ]
    },
    {
      "cell_type": "markdown",
      "metadata": {},
      "source": [
        "## Solution\nTo configure the discretization scheme, set 'first order\nupwind' method for turbulent kinetic energy and turbulent dissipation rate, 'quick'\nfor the momentum and volume fraction, and 'presto!' for pressure.\n\n"
      ]
    },
    {
      "cell_type": "code",
      "execution_count": null,
      "metadata": {
        "collapsed": false
      },
      "outputs": [],
      "source": [
        "methods = solver.solution.methods\n\nmethods.discretization_scheme = {\n    \"k\": \"first-order-upwind\",\n    \"mom\": \"quick\",\n    \"mp\": \"quick\",\n    \"omega\": \"first-order-upwind\",\n    \"pressure\": \"presto!\",\n}"
      ]
    },
    {
      "cell_type": "markdown",
      "metadata": {},
      "source": [
        "For the pressure velocity coupling scheme choose 'Coupled'. Set the pseudo\ntime step method to 'global time step' and enable 'High Order Term Relaxation'.\nThen, set the explicit relaxation factor for 'Volume Fraction' to\n0.3.\n\n"
      ]
    },
    {
      "cell_type": "code",
      "execution_count": null,
      "metadata": {
        "collapsed": false
      },
      "outputs": [],
      "source": [
        "methods.p_v_coupling.flow_scheme = \"Coupled\"\n\nmethods.pseudo_time_method.formulation.coupled_solver = \"global-time-step\"\n\nmethods.high_order_term_relaxation.enable = True\n\nsolver.solution.controls.pseudo_time_explicit_relaxation_factor.global_dt_pseudo_relax[\n    \"mp\"\n] = 0.3"
      ]
    },
    {
      "cell_type": "markdown",
      "metadata": {},
      "source": [
        "To plot the residuals, enable plotting and set the convergence criteria to\n1e-05 for x-velocity, y-velocity, k, omega, and vf-vapor. Enable the specified\ninitial pressure then initialize the solution with hybrid initialization.\n\n"
      ]
    },
    {
      "cell_type": "code",
      "execution_count": null,
      "metadata": {
        "collapsed": false
      },
      "outputs": [],
      "source": [
        "solver.solution.monitor.residual.options.plot = True\n\nresid_eqns = solver.solution.monitor.residual.equations\n\nresid_eqns[\"continuity\"].absolute_criteria = 1e-5\nresid_eqns[\"x-velocity\"].absolute_criteria = 1e-5\nresid_eqns[\"y-velocity\"].absolute_criteria = 1e-5\nresid_eqns[\"k\"].absolute_criteria = 1e-5\nresid_eqns[\"omega\"].absolute_criteria = 1e-5\nresid_eqns[\"vf-vapor\"].absolute_criteria = 1e-5\n\ninitialization = solver.solution.initialization\n\ninitialization.initialization_type = \"hybrid\"\ninitialization.hybrid_init_options.general_settings.initial_pressure = True\ninitialization.hybrid_initialize()"
      ]
    },
    {
      "cell_type": "markdown",
      "metadata": {},
      "source": [
        "## Save and Run\nSave the case file 'cav.cas.h5'. Then, start the calculation by requesting\n500 iterations. Save the final case file and the data.\n\n"
      ]
    },
    {
      "cell_type": "code",
      "execution_count": null,
      "metadata": {
        "collapsed": false
      },
      "outputs": [],
      "source": [
        "solver.file.write_case(file_name=\"cav\")\n\nsolver.solution.run_calculation.iterate(iter_count=500)\n\nsolver.file.write_case_data(file_name=\"cav\")"
      ]
    },
    {
      "cell_type": "markdown",
      "metadata": {},
      "source": [
        "## Post Processing\nSince Fluent is being run without the GUI, we will need to export plots as\npicture files. Edit the picture settings to use a custom resolution so that\nthe images are large enough.\n\n"
      ]
    },
    {
      "cell_type": "code",
      "execution_count": null,
      "metadata": {
        "collapsed": false
      },
      "outputs": [],
      "source": [
        "graphics = solver.results.graphics\n# use_window_resolution option not available inside containers\nif not solver.connection_properties.inside_container:\n    graphics.picture.use_window_resolution = False\ngraphics.picture.x_resolution = 1920\ngraphics.picture.y_resolution = 1440"
      ]
    },
    {
      "cell_type": "markdown",
      "metadata": {},
      "source": [
        "## Create contour plots\nCreate a contour plot for static pressure, turbulent kinetic energy and the\nvolume fraction of water vapor. For each plot enable banded coloring and\nfilled option.\n\n"
      ]
    },
    {
      "cell_type": "code",
      "execution_count": null,
      "metadata": {
        "collapsed": false
      },
      "outputs": [],
      "source": [
        "graphics = solver.results.graphics\n\ngraphics.contour[\"contour_static_pressure\"] = {\n    \"coloring\": {\n        \"option\": \"banded\",\n        \"smooth\": False,\n    },\n    \"field\": \"pressure\",\n    \"filled\": True,\n}"
      ]
    },
    {
      "cell_type": "markdown",
      "metadata": {},
      "source": [
        "Mirror the display around the symmetry plane to show the full model.\n\n"
      ]
    },
    {
      "cell_type": "code",
      "execution_count": null,
      "metadata": {
        "collapsed": false
      },
      "outputs": [],
      "source": [
        "solver.tui.display.set.mirror_zones([\"symm_2\", \"symm_1\"])\n\ngraphics.contour[\"contour_static_pressure\"].display()\n\ngraphics.picture.save_picture(file_name=\"contour_static_pressure.png\")"
      ]
    },
    {
      "cell_type": "markdown",
      "metadata": {},
      "source": [
        "<img src=\"file://_static/cavitation_model_012.png\" width=\"500pt\" align=\"center\">\n\n"
      ]
    },
    {
      "cell_type": "code",
      "execution_count": null,
      "metadata": {
        "collapsed": false
      },
      "outputs": [],
      "source": [
        "graphics.contour.create(\"contour_tke\")\n\ngraphics.contour[\"contour_tke\"] = {\n    \"coloring\": {\n        \"option\": \"banded\",\n        \"smooth\": False,\n    },\n    \"field\": \"turb-kinetic-energy\",\n    \"filled\": True,\n}\n\ngraphics.contour[\"contour_tke\"].display()\n\ngraphics.picture.save_picture(file_name=\"contour_tke.png\")"
      ]
    },
    {
      "cell_type": "markdown",
      "metadata": {},
      "source": [
        "<img src=\"file://_static/cavitation_model_011.png\" width=\"500pt\" align=\"center\">\n\n"
      ]
    },
    {
      "cell_type": "code",
      "execution_count": null,
      "metadata": {
        "collapsed": false
      },
      "outputs": [],
      "source": [
        "graphics.contour.create(\"contour_vf_vapor\")\n\ngraphics.contour[\"contour_vf_vapor\"] = {\n    \"coloring\": {\n        \"option\": \"banded\",\n        \"smooth\": False,\n    },\n    \"field\": \"vapor-vof\",\n    \"filled\": True,\n}\n\ngraphics.contour[\"contour_vf_vapor\"].display()\n\ngraphics.picture.save_picture(file_name=\"contour_vf_vapor.png\")"
      ]
    },
    {
      "cell_type": "markdown",
      "metadata": {},
      "source": [
        "<img src=\"file://_static/cavitation_model.png\" width=\"500pt\" align=\"center\">\n\n"
      ]
    },
    {
      "cell_type": "code",
      "execution_count": null,
      "metadata": {
        "collapsed": false
      },
      "outputs": [],
      "source": [
        "# Save case to 'cav.cas.h5' and exit\n\nsolver.file.write_case(file_name=\"cav\")\n\nsolver.exit()"
      ]
    }
  ],
  "metadata": {
    "kernelspec": {
      "display_name": "Python 3",
      "language": "python",
      "name": "python3"
    },
    "language_info": {
      "codemirror_mode": {
        "name": "ipython",
        "version": 3
      },
      "file_extension": ".py",
      "mimetype": "text/x-python",
      "name": "python",
      "nbconvert_exporter": "python",
      "pygments_lexer": "ipython3",
      "version": "3.10.8"
    }
  },
  "nbformat": 4,
  "nbformat_minor": 0
}