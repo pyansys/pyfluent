{
  "cells": [
    {
      "cell_type": "markdown",
      "metadata": {},
      "source": [
        "\n# Modeling Species Transport and Gaseous Combustion\n"
      ]
    },
    {
      "cell_type": "markdown",
      "metadata": {},
      "source": [
        "## Introduction\n\nThis tutorial examines the mixing of chemical species and the combustion of a gaseous fuel.\n\nA cylindrical combustor burning methane ($CH_4$) in air is studied using the eddy-dissipation model in PyFluent.\n\nThis tutorial demonstrates how to do the following:\n\n* Enable physical models, select material properties, and define boundary conditions for a turbulent flow with chemical species mixing and reaction.\n\n* Initiate and solve the combustion simulation using the pressure-based solver.\n\n* Examine the reacting flow results using graphics.\n\n## Problem Description\n\nThe cylindrical combustor considered in this tutorial is shown in the following figure.\nThe flame considered is a turbulent diffusion flame.\nA small nozzle in the center of the combustor introduces methane at 80 m/s.\nAmbient air enters the combustor coaxially at 0.5 m/s.\nThe overall equivalence ratio is approximately 0.76 (approximately 28% excess air).\nThe high-speed methane jet initially expands with little interference from the outer wall, and entrains and mixes with the low-speed air.\nThe Reynolds number based on the methane jet diameter is approximately $5.7 \u00d7 10^3$.\n\n.. figure:: /_static/species_transport/setup.png\n    :width: 500pt\n    :align: center\n\n    Combustion of Methane Gas in a Turbulent Diffusion Flame Furnace\n\n## Background\n\nIn this tutorial, we will use the generalized eddy-dissipation model to analyze the methane-air combustion system.\nThe combustion will be modeled using a global one-step reaction mechanism, assuming complete conversion of the fuel to $CO_2$ and $H_2O$.\nThe reaction equation is\n\n\\begin{align}CH_4 + 2H_2O \u2192 CO_2 + 4H_2\\end{align}\n\nThis reaction will be defined in terms of stoichiometric coefficients, formation enthalpies, and parameters that control the reaction rate.\nThe reaction rate will be determined assuming that turbulent mixing is the rate-limiting process, with the turbulence-chemistry interaction modeled using the eddy-dissipation model.\n\n## Setup and Solution\n\n### Preparation\nLaunch Fluent 2D in solution mode and print Fluent version.\n\n"
      ]
    },
    {
      "cell_type": "code",
      "execution_count": null,
      "metadata": {
        "collapsed": false
      },
      "outputs": [],
      "source": [
        "import ansys.fluent.core as pyfluent\n\nsolver = pyfluent.launch_fluent(dimension=2)\nprint(solver.get_fluent_version())"
      ]
    },
    {
      "cell_type": "markdown",
      "metadata": {},
      "source": [
        "Import some direct settings classes which will be used in the following sections.\nThese classes allow straightforward access to various settings without the need to navigate through the settings hierarchy.\n\n"
      ]
    },
    {
      "cell_type": "code",
      "execution_count": null,
      "metadata": {
        "collapsed": false
      },
      "outputs": [],
      "source": [
        "from pathlib import Path  # noqa: E402\n\nfrom ansys.fluent.core.examples import download_file  # noqa: E402\nfrom ansys.fluent.core.solver import (  # noqa: E402\n    Contour,\n    Energy,\n    Mesh,\n    MixtureMaterial,\n    PressureOutlet,\n    Species,\n    Vector,\n    VelocityInlet,\n    Viscous,\n    WallBoundary,\n)"
      ]
    },
    {
      "cell_type": "markdown",
      "metadata": {},
      "source": [
        "### Mesh\n\nDownload the mesh file and read it into the Fluent session.\n\n"
      ]
    },
    {
      "cell_type": "code",
      "execution_count": null,
      "metadata": {
        "collapsed": false
      },
      "outputs": [],
      "source": [
        "mesh_file = Path(download_file(\"gascomb.msh\", \"pyfluent/tutorials/species_transport\"))\nsolver.settings.file.read_mesh(file_name=mesh_file)"
      ]
    },
    {
      "cell_type": "markdown",
      "metadata": {},
      "source": [
        "### General Settings\nCheck the mesh.\n\nFluent will perform various checks on the mesh and will report the progress in the console.\nEnsure that the reported minimum volume reported is a positive number.\n\n"
      ]
    },
    {
      "cell_type": "code",
      "execution_count": null,
      "metadata": {
        "collapsed": false
      },
      "outputs": [],
      "source": [
        "solver.settings.mesh.check()"
      ]
    },
    {
      "cell_type": "markdown",
      "metadata": {},
      "source": [
        "Scale the mesh and check it again.\n\nSince this mesh was created in units of millimeters, we will need to scale the mesh into meters.\n\n<div class=\"alert alert-info\"><h4>Note</h4><p>We should check the mesh after we manipulate it (scale, convert to polyhedra, merge, separate, fuse, add zones, or smooth and swap).\n   This will ensure that the quality of the mesh has not been compromised.</p></div>\n\n"
      ]
    },
    {
      "cell_type": "code",
      "execution_count": null,
      "metadata": {
        "collapsed": false
      },
      "outputs": [],
      "source": [
        "solver.settings.mesh.scale(x_scale=0.001, y_scale=0.001)\nsolver.settings.mesh.check()"
      ]
    },
    {
      "cell_type": "markdown",
      "metadata": {},
      "source": [
        "Display the mesh in Fluent and save the image to a file to examine locally.\n\n"
      ]
    },
    {
      "cell_type": "code",
      "execution_count": null,
      "metadata": {
        "collapsed": false
      },
      "outputs": [],
      "source": [
        "mesh = Mesh(solver, new_instance_name=\"mesh\")\nmesh.surfaces_list = mesh.surfaces_list.allowed_values()\nmesh.display()\ngraphics = solver.settings.results.graphics\ngraphics.views.auto_scale()\nif graphics.picture.use_window_resolution.is_active():\n    graphics.picture.use_window_resolution = False\ngraphics.picture.x_resolution = 3840\ngraphics.picture.y_resolution = 2880\ngraphics.picture.save_picture(file_name=\"mesh.png\")"
      ]
    },
    {
      "cell_type": "markdown",
      "metadata": {},
      "source": [
        ".. figure:: /_static/species_transport/mesh.png\n    :width: 500pt\n    :align: center\n\n    The Quadrilateral Mesh for the Combustor Model\n\n"
      ]
    },
    {
      "cell_type": "markdown",
      "metadata": {},
      "source": [
        "Inspect the available options for the two-dimensional space setting and set it to axisymmetric.\n\n"
      ]
    },
    {
      "cell_type": "code",
      "execution_count": null,
      "metadata": {
        "collapsed": false
      },
      "outputs": [],
      "source": [
        "solver.settings.setup.general.solver.two_dim_space.allowed_values()"
      ]
    },
    {
      "cell_type": "code",
      "execution_count": null,
      "metadata": {
        "collapsed": false
      },
      "outputs": [],
      "source": [
        "solver.settings.setup.general.solver.two_dim_space = \"axisymmetric\""
      ]
    },
    {
      "cell_type": "markdown",
      "metadata": {},
      "source": [
        "### Models\nEnable heat transfer by enabling the energy model.\n\n"
      ]
    },
    {
      "cell_type": "code",
      "execution_count": null,
      "metadata": {
        "collapsed": false
      },
      "outputs": [],
      "source": [
        "Energy(solver).enabled = True"
      ]
    },
    {
      "cell_type": "markdown",
      "metadata": {},
      "source": [
        "Inspect the default settings for the k-\u03c9 SST viscous model.\n\n"
      ]
    },
    {
      "cell_type": "code",
      "execution_count": null,
      "metadata": {
        "collapsed": false
      },
      "outputs": [],
      "source": [
        "Viscous(solver).print_state()"
      ]
    },
    {
      "cell_type": "markdown",
      "metadata": {},
      "source": [
        "Inspect the available options for the species model and set it to species transport.\n\n"
      ]
    },
    {
      "cell_type": "code",
      "execution_count": null,
      "metadata": {
        "collapsed": false
      },
      "outputs": [],
      "source": [
        "species = Species(solver)\nspecies.model.option.allowed_values()"
      ]
    },
    {
      "cell_type": "code",
      "execution_count": null,
      "metadata": {
        "collapsed": false
      },
      "outputs": [],
      "source": [
        "species.model.option = \"species-transport\""
      ]
    },
    {
      "cell_type": "markdown",
      "metadata": {},
      "source": [
        "Inspect the species model settings.\n\n"
      ]
    },
    {
      "cell_type": "code",
      "execution_count": null,
      "metadata": {
        "collapsed": false
      },
      "outputs": [],
      "source": [
        "species.print_state()"
      ]
    },
    {
      "cell_type": "markdown",
      "metadata": {},
      "source": [
        "Enable volumetric reactions.\n\n"
      ]
    },
    {
      "cell_type": "code",
      "execution_count": null,
      "metadata": {
        "collapsed": false
      },
      "outputs": [],
      "source": [
        "species.reactions.enable_volumetric_reactions = True"
      ]
    },
    {
      "cell_type": "markdown",
      "metadata": {},
      "source": [
        "Set the material to methane-air.\n\n<div class=\"alert alert-info\"><h4>Note</h4><p>The available material list contains the set of chemical mixtures that exist in the Ansys Fluent database.\n   We can select one of the predefined mixtures to access a complete description of the reacting system.\n   The chemical species in the system and their physical and thermodynamic properties are defined by our selection of the mixture material.\n   We can alter the mixture material selection or modify the mixture material properties using the material settings (see `Materials`_).</p></div>\n\n"
      ]
    },
    {
      "cell_type": "code",
      "execution_count": null,
      "metadata": {
        "collapsed": false
      },
      "outputs": [],
      "source": [
        "species.model.material = \"methane-air\""
      ]
    },
    {
      "cell_type": "markdown",
      "metadata": {},
      "source": [
        "Set the turbulence-chemistry interaction model to eddy-dissipation.\n\n*The eddy-dissipation model computes the rate of reaction under the assumption that chemical kinetics are fast compared to the rate at which reactants are mixed by turbulent fluctuations (eddies).*\n\n"
      ]
    },
    {
      "cell_type": "code",
      "execution_count": null,
      "metadata": {
        "collapsed": false
      },
      "outputs": [],
      "source": [
        "species.turb_chem_interaction_model = \"eddy-dissipation\""
      ]
    },
    {
      "cell_type": "markdown",
      "metadata": {},
      "source": [
        "Inspect the species model settings after the changes.\n\n"
      ]
    },
    {
      "cell_type": "code",
      "execution_count": null,
      "metadata": {
        "collapsed": false
      },
      "outputs": [],
      "source": [
        "species.print_state()"
      ]
    },
    {
      "cell_type": "markdown",
      "metadata": {},
      "source": [
        "### Materials\nIn this step, we will examine the default settings for the mixture material.\nThis tutorial uses mixture properties copied from the Ansys Fluent database.\nIn general, we can modify these or create our own mixture properties for our specific problem as necessary.\n\n"
      ]
    },
    {
      "cell_type": "markdown",
      "metadata": {},
      "source": [
        "Print some specific properties of the mixture material (methane-air).\nWe avoid printing the entire state of the mixture material to keep the output concise.\n\n"
      ]
    },
    {
      "cell_type": "code",
      "execution_count": null,
      "metadata": {
        "collapsed": false
      },
      "outputs": [],
      "source": [
        "mixture_material = MixtureMaterial(solver, name=\"methane-air\")\nprint(f\"Species list: {mixture_material.species.volumetric_species.get_object_names()}\")\nprint(f\"Reactions option: {mixture_material.reactions.option()}\")\nprint(f\"Density option: {mixture_material.density.option()}\")\nprint(f\"Cp (specific heat) option: {mixture_material.specific_heat.option()}\")\nprint(f\"Thermal conductivity value: {mixture_material.thermal_conductivity.value()}\")\nprint(f\"Viscosity value: {mixture_material.viscosity.value()}\")\nprint(f\"Mass diffusivity value: {mixture_material.mass_diffusivity.value()}\")"
      ]
    },
    {
      "cell_type": "markdown",
      "metadata": {},
      "source": [
        "### Boundary Conditions\nConvert the symmetry zone to the axis type.\n\n*The symmetry zone must be converted to an axis to prevent numerical difficulties where the radius reduces to zero.*\n\n"
      ]
    },
    {
      "cell_type": "code",
      "execution_count": null,
      "metadata": {
        "collapsed": false
      },
      "outputs": [],
      "source": [
        "solver.settings.setup.boundary_conditions.set_zone_type(\n    zone_list=[\"symmetry-5\"], new_type=\"axis\"\n)"
      ]
    },
    {
      "cell_type": "markdown",
      "metadata": {},
      "source": [
        "Set the boundary conditions for the air inlet (velocity-inlet-8).\n\nSet the zone name to air-inlet.\n\n*This name is more descriptive for the zone than velocity-inlet-8.*\n\n"
      ]
    },
    {
      "cell_type": "code",
      "execution_count": null,
      "metadata": {
        "collapsed": false
      },
      "outputs": [],
      "source": [
        "solver.settings.setup.boundary_conditions.set_zone_name(\n    zonename=\"velocity-inlet-8\", newname=\"air-inlet\"\n)"
      ]
    },
    {
      "cell_type": "markdown",
      "metadata": {},
      "source": [
        "Set the following boundary conditions for the air-inlet:\n\n* Velocity magnitude: 0.5 m/s\n\n* Turbulent intensity: 10%\n\n* Hydraulic diameter: 0.44 m\n\n* Temperature: 300 K\n\n* Species mass fraction for o2: 0.23\n\n"
      ]
    },
    {
      "cell_type": "code",
      "execution_count": null,
      "metadata": {
        "collapsed": false
      },
      "outputs": [],
      "source": [
        "air_inlet = VelocityInlet(solver, name=\"air-inlet\")\nair_inlet.momentum.velocity_magnitude = 0.5\nair_inlet.turbulence.turbulence_specification = \"Intensity and Hydraulic Diameter\"\nair_inlet.turbulence.turbulent_intensity = 0.1\nair_inlet.turbulence.hydraulic_diameter = 0.44\nair_inlet.thermal.temperature = 300\nair_inlet.species.species_mass_fraction[\"o2\"] = 0.23"
      ]
    },
    {
      "cell_type": "markdown",
      "metadata": {},
      "source": [
        "Verify the state of the air-inlet boundary condition after the changes.\n\n"
      ]
    },
    {
      "cell_type": "code",
      "execution_count": null,
      "metadata": {
        "collapsed": false
      },
      "outputs": [],
      "source": [
        "air_inlet.print_state()"
      ]
    },
    {
      "cell_type": "markdown",
      "metadata": {},
      "source": [
        "Set the boundary conditions for the fuel inlet (velocity-inlet-6).\n\nSet the zone name to fuel-inlet.\n\n*This name is more descriptive for the zone than velocity-inlet-6.*\n\n"
      ]
    },
    {
      "cell_type": "code",
      "execution_count": null,
      "metadata": {
        "collapsed": false
      },
      "outputs": [],
      "source": [
        "solver.settings.setup.boundary_conditions.set_zone_name(\n    zonename=\"velocity-inlet-6\", newname=\"fuel-inlet\"\n)"
      ]
    },
    {
      "cell_type": "markdown",
      "metadata": {},
      "source": [
        "Set the following boundary conditions for the fuel-inlet:\n\n* Velocity magnitude: 80 m/s\n\n* Turbulent intensity: 10%\n\n* Hydraulic diameter: 0.01 m\n\n* Temperature: 300 K\n\n* Species mass fraction for ch4: 1\n\n"
      ]
    },
    {
      "cell_type": "code",
      "execution_count": null,
      "metadata": {
        "collapsed": false
      },
      "outputs": [],
      "source": [
        "fuel_inlet = VelocityInlet(solver, name=\"fuel-inlet\")\nfuel_inlet.momentum.velocity_magnitude = 80\nfuel_inlet.turbulence.turbulence_specification = \"Intensity and Hydraulic Diameter\"\nfuel_inlet.turbulence.turbulent_intensity = 0.1\nfuel_inlet.turbulence.hydraulic_diameter = 0.01\nfuel_inlet.thermal.temperature = 300\nfuel_inlet.species.species_mass_fraction[\"ch4\"] = 1"
      ]
    },
    {
      "cell_type": "markdown",
      "metadata": {},
      "source": [
        "Verify the state of the fuel-inlet boundary condition after the changes.\n\n"
      ]
    },
    {
      "cell_type": "code",
      "execution_count": null,
      "metadata": {
        "collapsed": false
      },
      "outputs": [],
      "source": [
        "fuel_inlet.print_state()"
      ]
    },
    {
      "cell_type": "markdown",
      "metadata": {},
      "source": [
        "Set the following boundary conditions for the exit boundary (pressure-outlet-9):\n\n* Gauge pressure: 0 Pa\n\n* Backflow turbulence intensity: 10%\n\n* Backflow Hydraulic diameter: 0.45 m\n\n* Backflow total temperature: 300 K\n\n* Backflow species mass fraction for o2: 0.23\n\n*The Backflow values in the pressure outlet boundary condition are utilized only when backflow occurs at the pressure outlet.\nAlways assign reasonable values because backflow may occur during intermediate iterations and could affect the solution stability.*\n\n"
      ]
    },
    {
      "cell_type": "code",
      "execution_count": null,
      "metadata": {
        "collapsed": false
      },
      "outputs": [],
      "source": [
        "pressure_outlet = PressureOutlet(solver, name=\"pressure-outlet-9\")\npressure_outlet.momentum.gauge_pressure = 0\npressure_outlet.turbulence.turbulence_specification = \"Intensity and Hydraulic Diameter\"\npressure_outlet.turbulence.backflow_turbulent_intensity = 0.1\npressure_outlet.turbulence.backflow_hydraulic_diameter = 0.45\npressure_outlet.thermal.backflow_total_temperature = 300\npressure_outlet.species.backflow_species_mass_fraction[\"o2\"] = 0.23"
      ]
    },
    {
      "cell_type": "markdown",
      "metadata": {},
      "source": [
        "Verify the state of the pressure-outlet boundary condition after the changes.\n\n"
      ]
    },
    {
      "cell_type": "code",
      "execution_count": null,
      "metadata": {
        "collapsed": false
      },
      "outputs": [],
      "source": [
        "pressure_outlet.print_state()"
      ]
    },
    {
      "cell_type": "markdown",
      "metadata": {},
      "source": [
        "Set the boundary conditions for the outer wall (wall-7).\n\nSet the zone name to outer-wall.\n\n*This name is more descriptive for the zone than wall-7.*\n\n"
      ]
    },
    {
      "cell_type": "code",
      "execution_count": null,
      "metadata": {
        "collapsed": false
      },
      "outputs": [],
      "source": [
        "solver.settings.setup.boundary_conditions.set_zone_name(\n    zonename=\"wall-7\", newname=\"outer-wall\"\n)"
      ]
    },
    {
      "cell_type": "markdown",
      "metadata": {},
      "source": [
        "Set the following boundary conditions for the outer-wall:\n\n* Temperature: 300 K\n\n"
      ]
    },
    {
      "cell_type": "code",
      "execution_count": null,
      "metadata": {
        "collapsed": false
      },
      "outputs": [],
      "source": [
        "outer_wall = WallBoundary(solver, name=\"outer-wall\")\nouter_wall.thermal.thermal_condition = \"Temperature\"\nouter_wall.thermal.temperature = 300"
      ]
    },
    {
      "cell_type": "markdown",
      "metadata": {},
      "source": [
        "Verify the state of thermal properties of the outer-wall boundary condition after the changes.\n\n"
      ]
    },
    {
      "cell_type": "code",
      "execution_count": null,
      "metadata": {
        "collapsed": false
      },
      "outputs": [],
      "source": [
        "outer_wall.thermal.print_state()"
      ]
    },
    {
      "cell_type": "markdown",
      "metadata": {},
      "source": [
        "Set the boundary conditions for the fuel inlet nozzle (wall-2).\n\nSet the zone name to nozzle.\n\n*This name is more descriptive for the zone than wall-2.*\n\n"
      ]
    },
    {
      "cell_type": "code",
      "execution_count": null,
      "metadata": {
        "collapsed": false
      },
      "outputs": [],
      "source": [
        "solver.settings.setup.boundary_conditions.set_zone_name(\n    zonename=\"wall-2\", newname=\"nozzle\"\n)"
      ]
    },
    {
      "cell_type": "markdown",
      "metadata": {},
      "source": [
        "Set the following boundary conditions for the nozzle for adiabatic wall conditions:\n\n* Heat flux: 0 $W/m^2$\n\n"
      ]
    },
    {
      "cell_type": "code",
      "execution_count": null,
      "metadata": {
        "collapsed": false
      },
      "outputs": [],
      "source": [
        "nozzle = WallBoundary(solver, name=\"nozzle\")\nnozzle.thermal.thermal_condition = \"Heat Flux\"\nnozzle.thermal.heat_flux = 0"
      ]
    },
    {
      "cell_type": "markdown",
      "metadata": {},
      "source": [
        "Verify the state of thermal properties of the nozzle boundary condition after the changes.\n\n"
      ]
    },
    {
      "cell_type": "code",
      "execution_count": null,
      "metadata": {
        "collapsed": false
      },
      "outputs": [],
      "source": [
        "nozzle.thermal.print_state()"
      ]
    },
    {
      "cell_type": "markdown",
      "metadata": {},
      "source": [
        "### Reaction Solution\n*We will calculate a solution for the reacting flow.*\n\nInspect the solution methods settings.\n\n"
      ]
    },
    {
      "cell_type": "code",
      "execution_count": null,
      "metadata": {
        "collapsed": false
      },
      "outputs": [],
      "source": [
        "solver.settings.solution.methods.print_state()"
      ]
    },
    {
      "cell_type": "markdown",
      "metadata": {},
      "source": [
        "Ensure that plot is enabled in residual monitor options.\n\n"
      ]
    },
    {
      "cell_type": "code",
      "execution_count": null,
      "metadata": {
        "collapsed": false
      },
      "outputs": [],
      "source": [
        "solver.settings.solution.monitor.residual.options.plot()"
      ]
    },
    {
      "cell_type": "markdown",
      "metadata": {},
      "source": [
        "Initialize the field variables.\n\n"
      ]
    },
    {
      "cell_type": "code",
      "execution_count": null,
      "metadata": {
        "collapsed": false
      },
      "outputs": [],
      "source": [
        "solver.settings.solution.initialization.hybrid_initialize()"
      ]
    },
    {
      "cell_type": "markdown",
      "metadata": {},
      "source": [
        "Save the case file (gascomb1.cas.h5).\n\n"
      ]
    },
    {
      "cell_type": "code",
      "execution_count": null,
      "metadata": {
        "collapsed": false
      },
      "outputs": [],
      "source": [
        "solver.settings.file.write_case(file_name=\"gascomb1.cas.h5\")"
      ]
    },
    {
      "cell_type": "markdown",
      "metadata": {},
      "source": [
        "Run the calculation for 200 iterations.\n\n"
      ]
    },
    {
      "cell_type": "code",
      "execution_count": null,
      "metadata": {
        "collapsed": false
      },
      "outputs": [],
      "source": [
        "solver.settings.solution.run_calculation.iterate(iter_count=200)"
      ]
    },
    {
      "cell_type": "markdown",
      "metadata": {},
      "source": [
        "Set time scale factor to 5.\n\n*The Time Scale Factor allows us to further manipulate the computed time step size calculated by Fluent.\nLarger time steps can lead to faster convergence. However, if the time step is too large it can lead to solution instability.*\n\n"
      ]
    },
    {
      "cell_type": "code",
      "execution_count": null,
      "metadata": {
        "collapsed": false
      },
      "outputs": [],
      "source": [
        "solver.settings.solution.run_calculation.pseudo_time_settings.time_step_method.time_step_size_scale_factor = (\n    5\n)"
      ]
    },
    {
      "cell_type": "markdown",
      "metadata": {},
      "source": [
        "Run the calculation for 200 iterations.\n\n"
      ]
    },
    {
      "cell_type": "code",
      "execution_count": null,
      "metadata": {
        "collapsed": false
      },
      "outputs": [],
      "source": [
        "solver.settings.solution.run_calculation.iterate(iter_count=200)"
      ]
    },
    {
      "cell_type": "markdown",
      "metadata": {},
      "source": [
        "Save the case and data files (gascomb1.cas.h5 and gascomb1.dat.h5).\n\n"
      ]
    },
    {
      "cell_type": "code",
      "execution_count": null,
      "metadata": {
        "collapsed": false
      },
      "outputs": [],
      "source": [
        "solver.settings.file.write_case_data(file_name=\"gascomb1.cas.h5\")"
      ]
    },
    {
      "cell_type": "markdown",
      "metadata": {},
      "source": [
        "### Postprocessing\n*Review the solution by examining graphical displays of the results and performing surface integrations at the combustor exit.*\n\nReport the total sensible heat flux.\nWe shall use wildcards to specify all zones.\n\n"
      ]
    },
    {
      "cell_type": "code",
      "execution_count": null,
      "metadata": {
        "collapsed": false
      },
      "outputs": [],
      "source": [
        "solver.settings.results.report.fluxes.get_heat_transfer_sensible(zones=\"*\")"
      ]
    },
    {
      "cell_type": "markdown",
      "metadata": {},
      "source": [
        "Display filled contours of temperature and save the image to a file.\n\n"
      ]
    },
    {
      "cell_type": "code",
      "execution_count": null,
      "metadata": {
        "collapsed": false
      },
      "outputs": [],
      "source": [
        "contour1 = Contour(solver, new_instance_name=\"contour-temp\")\ncontour1.field = \"temperature\"\ncontour1.surfaces_list = contour1.surfaces_list.allowed_values()\ncontour1.coloring.option = \"banded\"\ncontour1.display()\ngraphics.views.auto_scale()\n# graphics.picture.save_picture(file_name=\"contour-temp.png\")"
      ]
    },
    {
      "cell_type": "markdown",
      "metadata": {},
      "source": [
        ".. figure:: /_static/species_transport/contour-temp.png\n    :width: 500pt\n    :align: center\n\n    Contours of Temperature\n\n*The peak temperature is approximately 2300 K.*\n\n"
      ]
    },
    {
      "cell_type": "markdown",
      "metadata": {},
      "source": [
        "Display velocity vectors and save the image to a file.\n\n"
      ]
    },
    {
      "cell_type": "code",
      "execution_count": null,
      "metadata": {
        "collapsed": false
      },
      "outputs": [],
      "source": [
        "vector1 = Vector(solver, new_instance_name=\"vector-vel\")\nvector1.surfaces_list = [\"interior-4\"]\nvector1.scale.scale_f = 0.01\nvector1.vector_opt.fixed_length = True"
      ]
    },
    {
      "cell_type": "markdown",
      "metadata": {},
      "source": [
        "*The fixed length option is useful when the vector magnitude varies dramatically.\nWith fixed length vectors, the velocity magnitude is described only by color instead of by both vector length and color.*\n\n"
      ]
    },
    {
      "cell_type": "code",
      "execution_count": null,
      "metadata": {
        "collapsed": false
      },
      "outputs": [],
      "source": [
        "vector1.vector_opt.scale_head = 0.1\nvector1.display()\ngraphics.views.auto_scale()\ngraphics.picture.save_picture(file_name=\"vector-vel.png\")"
      ]
    },
    {
      "cell_type": "markdown",
      "metadata": {},
      "source": [
        ".. figure:: /_static/species_transport/vector-vel.png\n    :width: 500pt\n    :align: center\n\n    Velocity Vectors\n\n*The entrainment of air into the high-velocity methane jet is clearly visible.*\n\n"
      ]
    },
    {
      "cell_type": "markdown",
      "metadata": {},
      "source": [
        "Display filled contours of mass fraction of $CH_4$ and save the image to a file.\n\n"
      ]
    },
    {
      "cell_type": "code",
      "execution_count": null,
      "metadata": {
        "collapsed": false
      },
      "outputs": [],
      "source": [
        "contour2 = Contour(solver, new_instance_name=\"contour-ch4-mass-fraction\")\ncontour2.field = \"ch4\"\ncontour2.surfaces_list = contour2.surfaces_list.allowed_values()\ncontour2.display()\ngraphics.views.auto_scale()\ngraphics.picture.save_picture(file_name=\"contour-ch4-mass-fraction.png\")"
      ]
    },
    {
      "cell_type": "markdown",
      "metadata": {},
      "source": [
        ".. figure:: /_static/species_transport/contour-ch4-mass-fraction.png\n    :width: 500pt\n    :align: center\n\n    Contours of $CH_4$ Mass Fraction\n\n"
      ]
    },
    {
      "cell_type": "markdown",
      "metadata": {},
      "source": [
        "Display filled contours of mass fraction of $O_2$ and save the image to a file.\n\n"
      ]
    },
    {
      "cell_type": "code",
      "execution_count": null,
      "metadata": {
        "collapsed": false
      },
      "outputs": [],
      "source": [
        "contour3 = Contour(solver, new_instance_name=\"contour-o2-mass-fraction\")\ncontour3.field = \"o2\"\ncontour3.surfaces_list = contour3.surfaces_list.allowed_values()\ncontour3.display()\ngraphics.views.auto_scale()\ngraphics.picture.save_picture(file_name=\"contour-o2-mass-fraction.png\")"
      ]
    },
    {
      "cell_type": "markdown",
      "metadata": {},
      "source": [
        ".. figure:: /_static/species_transport/contour-o2-mass-fraction.png\n    :width: 500pt\n    :align: center\n\n    Contours of $O_2$ Mass Fraction\n\n"
      ]
    },
    {
      "cell_type": "markdown",
      "metadata": {},
      "source": [
        "Display filled contours of mass fraction of $CO_2$ and save the image to a file.\n\n"
      ]
    },
    {
      "cell_type": "code",
      "execution_count": null,
      "metadata": {
        "collapsed": false
      },
      "outputs": [],
      "source": [
        "contour4 = Contour(solver, new_instance_name=\"contour-co2-mass-fraction\")\ncontour4.field = \"co2\"\ncontour4.surfaces_list = contour4.surfaces_list.allowed_values()\ncontour4.display()\ngraphics.views.auto_scale()\ngraphics.picture.save_picture(file_name=\"contour-co2-mass-fraction.png\")"
      ]
    },
    {
      "cell_type": "markdown",
      "metadata": {},
      "source": [
        ".. figure:: /_static/species_transport/contour-co2-mass-fraction.png\n    :width: 500pt\n    :align: center\n\n    Contours of $CO_2$ Mass Fraction\n\n"
      ]
    },
    {
      "cell_type": "markdown",
      "metadata": {},
      "source": [
        "Display filled contours of mass fraction of $H_2O$ and save the image to a file.\n\n"
      ]
    },
    {
      "cell_type": "code",
      "execution_count": null,
      "metadata": {
        "collapsed": false
      },
      "outputs": [],
      "source": [
        "contour5 = Contour(solver, new_instance_name=\"contour-h2o-mass-fraction\")\ncontour5.field = \"h2o\"\ncontour5.surfaces_list = contour5.surfaces_list.allowed_values()\ncontour5.display()\ngraphics.views.auto_scale()\ngraphics.picture.save_picture(file_name=\"contour-h2o-mass-fraction.png\")"
      ]
    },
    {
      "cell_type": "markdown",
      "metadata": {},
      "source": [
        ".. figure:: /_static/species_transport/contour-h2o-mass-fraction.png\n    :width: 500pt\n    :align: center\n\n    Contours of $H_2O$ Mass Fraction\n\n"
      ]
    },
    {
      "cell_type": "markdown",
      "metadata": {},
      "source": [
        "Determine the average exit temperature.\n\nThe mass-averaged temperature will be computed as:\n\n\\begin{align}\\bar{T}=\\frac{\\int T \\rho \\vec{v} \\cdot d \\vec{A}}{\\int \\rho \\vec{v} \\cdot d \\vec{A}}\\end{align}\n\n*The mass-averaged temperature at the exit is approximately 1840 K.*\n\n"
      ]
    },
    {
      "cell_type": "code",
      "execution_count": null,
      "metadata": {
        "collapsed": false
      },
      "outputs": [],
      "source": [
        "solver.settings.results.report.surface_integrals.get_mass_weighted_avg(\n    report_of=\"temperature\", surface_names=[\"pressure-outlet-9\"]\n)"
      ]
    },
    {
      "cell_type": "markdown",
      "metadata": {},
      "source": [
        "Determine the average exit velocity.\n\nThe mass-averaged velocity will be computed as:\n\n\\begin{align}v=\\frac{1}{A} \\int v d A\\end{align}\n\n*The Area-Weighted Average field will show that the exit velocity is approximately 3.37 m/s.*\n\n"
      ]
    },
    {
      "cell_type": "code",
      "execution_count": null,
      "metadata": {
        "collapsed": false
      },
      "outputs": [],
      "source": [
        "solver.settings.results.report.surface_integrals.get_area_weighted_avg(\n    report_of=\"velocity-magnitude\", surface_names=[\"pressure-outlet-9\"]\n)"
      ]
    },
    {
      "cell_type": "markdown",
      "metadata": {},
      "source": [
        "Save the case file (gascomb1.cas.h5).\n\n"
      ]
    },
    {
      "cell_type": "code",
      "execution_count": null,
      "metadata": {
        "collapsed": false
      },
      "outputs": [],
      "source": [
        "solver.settings.file.write_case(file_name=\"gascomb1.cas.h5\")"
      ]
    },
    {
      "cell_type": "markdown",
      "metadata": {},
      "source": [
        "### Close Fluent\n\n"
      ]
    },
    {
      "cell_type": "code",
      "execution_count": null,
      "metadata": {
        "collapsed": false
      },
      "outputs": [],
      "source": [
        "solver.exit()"
      ]
    },
    {
      "cell_type": "markdown",
      "metadata": {},
      "source": [
        "## Summary\n\nIn this tutorial we used PyFluent to model the transport, mixing, and reaction of chemical species.\nThe reaction system was defined by using a mixture-material entry in the Ansys Fluent database.\nThe procedures used here for simulation of hydrocarbon combustion can be applied to other reacting flow systems.\n\n"
      ]
    }
  ],
  "metadata": {
    "kernelspec": {
      "display_name": "Python 3",
      "language": "python",
      "name": "python3"
    },
    "language_info": {
      "codemirror_mode": {
        "name": "ipython",
        "version": 3
      },
      "file_extension": ".py",
      "mimetype": "text/x-python",
      "name": "python",
      "nbconvert_exporter": "python",
      "pygments_lexer": "ipython3",
      "version": "3.11.10"
    }
  },
  "nbformat": 4,
  "nbformat_minor": 0
}