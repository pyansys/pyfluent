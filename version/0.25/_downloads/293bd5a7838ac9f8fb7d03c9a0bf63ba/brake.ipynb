{
  "cells": [
    {
      "cell_type": "markdown",
      "metadata": {},
      "source": [
        "\n# Automotive Brake Thermal Analysis\n\n## Objective:\n\nBraking surfaces get heated due to frictional heating during braking.\nHigh temperature affects the braking performance and life of the braking system.\nThis example demonstrates:\n\n* Fluent setup and simulation using PyFluent\n* Post processing using PyVista (3D Viewer) and Matplotlib (2D graphs)\n"
      ]
    },
    {
      "cell_type": "markdown",
      "metadata": {},
      "source": [
        "## Import required libraries/modules\n\n"
      ]
    },
    {
      "cell_type": "code",
      "execution_count": null,
      "metadata": {
        "collapsed": false
      },
      "outputs": [],
      "source": [
        "import csv\nfrom pathlib import Path\n\nimport matplotlib.pyplot as plt\n\nimport ansys.fluent.core as pyfluent\nfrom ansys.fluent.core import examples\nimport ansys.fluent.visualization.pyvista as pv"
      ]
    },
    {
      "cell_type": "markdown",
      "metadata": {},
      "source": [
        "## Specifying save path\nsave_path can be specified as Path(\"E:/\", \"pyfluent-examples-tests\") or\nPath(\"E:/pyfluent-examples-tests\") in a Windows machine for example,  or\nPath(\"~/pyfluent-examples-tests\") in Linux.\n\n"
      ]
    },
    {
      "cell_type": "code",
      "execution_count": null,
      "metadata": {
        "collapsed": false
      },
      "outputs": [],
      "source": [
        "save_path = Path(pyfluent.EXAMPLES_PATH)\n\nimport_filename = examples.download_file(\n    \"brake.msh\",\n    \"pyfluent/examples/Brake-Thermal-PyVista-Matplotlib\",\n    save_path=save_path,\n)"
      ]
    },
    {
      "cell_type": "markdown",
      "metadata": {},
      "source": [
        "## Fluent Solution Setup\n\n"
      ]
    },
    {
      "cell_type": "markdown",
      "metadata": {},
      "source": [
        "### Launch Fluent session with solver mode\n\n"
      ]
    },
    {
      "cell_type": "code",
      "execution_count": null,
      "metadata": {
        "collapsed": false
      },
      "outputs": [],
      "source": [
        "session = pyfluent.launch_fluent(precision=\"double\", processor_count=2, version=\"3d\")\nsession.health_check.status()"
      ]
    },
    {
      "cell_type": "markdown",
      "metadata": {},
      "source": [
        "### Import mesh\n\n"
      ]
    },
    {
      "cell_type": "code",
      "execution_count": null,
      "metadata": {
        "collapsed": false
      },
      "outputs": [],
      "source": [
        "session.settings.file.read_case(file_name=import_filename)"
      ]
    },
    {
      "cell_type": "markdown",
      "metadata": {},
      "source": [
        "### Define models and material\n\n"
      ]
    },
    {
      "cell_type": "code",
      "execution_count": null,
      "metadata": {
        "collapsed": false
      },
      "outputs": [],
      "source": [
        "session.settings.setup.models.energy = {\"enabled\": True}\nsession.settings.setup.general.solver.time = \"unsteady-2nd-order-bounded\"\nsession.tui.define.materials.copy(\"solid\", \"steel\")"
      ]
    },
    {
      "cell_type": "markdown",
      "metadata": {},
      "source": [
        "### Solve only energy equation (conduction)\n\n"
      ]
    },
    {
      "cell_type": "code",
      "execution_count": null,
      "metadata": {
        "collapsed": false
      },
      "outputs": [],
      "source": [
        "session.tui.solve.set.equations(\"flow\", \"no\", \"kw\", \"no\")"
      ]
    },
    {
      "cell_type": "markdown",
      "metadata": {},
      "source": [
        "### Define disc rotation\n(15.79 rps corresponds to 100 km/h car speed\nwith 0.28 m of axis height from ground)\n\n"
      ]
    },
    {
      "cell_type": "code",
      "execution_count": null,
      "metadata": {
        "collapsed": false
      },
      "outputs": [],
      "source": [
        "session.settings.setup.cell_zone_conditions.solid[\"disc2\"] = {\n    \"solid_motion\": {\n        \"solid_motion_zone_motion_function\": \"none\",\n        \"solid_motion_axis_direction\": [0, 1, 0],\n        \"solid_motion_axis_origin\": [-0.035, -0.821, 0.045],\n        \"solid_motion_velocity\": [0, 0, 0],\n        \"solid_omega\": -15.79,\n        \"solid_relative_to_thread\": \"absolute\",\n        \"enable\": True,\n    }\n}\nsession.settings.setup.cell_zone_conditions.solid[\"disc1\"] = {\n    \"solid_motion\": {\n        \"solid_motion_zone_motion_function\": \"none\",\n        \"solid_motion_axis_direction\": [0, 1, 0],\n        \"solid_motion_axis_origin\": [-0.035, -0.821, 0.045],\n        \"solid_motion_velocity\": [0, 0, 0],\n        \"solid_omega\": -15.79,\n        \"solid_relative_to_thread\": \"absolute\",\n        \"enable\": True,\n    }\n}"
      ]
    },
    {
      "cell_type": "markdown",
      "metadata": {},
      "source": [
        "### Apply frictional heating on pad-disc surfaces\nWall thickness 0f 2 mm has been assumed and 2e9 w/m3 is the heat generation which\nhas been calculated from kinetic energy change due to braking.\n\n"
      ]
    },
    {
      "cell_type": "code",
      "execution_count": null,
      "metadata": {
        "collapsed": false
      },
      "outputs": [],
      "source": [
        "session.settings.setup.boundary_conditions.wall[\"wall-pad-disc2\"] = {\n    \"thermal\": {\"q_dot\": {\"value\": 2000000000}, \"wall_thickness\": {\"value\": 0.002}}\n}\nsession.settings.setup.boundary_conditions.wall[\"wall_pad-disc1\"] = {\n    \"thermal\": {\"q_dot\": {\"value\": 2000000000}, \"wall_thickness\": {\"value\": 0.002}}\n}"
      ]
    },
    {
      "cell_type": "markdown",
      "metadata": {},
      "source": [
        "### Apply convection cooling on outer surfaces due to air flow\nOuter surfaces are applied a constant htc of 100 W/(m2 K)\nand 300 K free stream temperature\n\n"
      ]
    },
    {
      "cell_type": "code",
      "execution_count": null,
      "metadata": {
        "collapsed": false
      },
      "outputs": [],
      "source": [
        "session.tui.define.boundary_conditions.set.wall(\n    \"wall-disc*\",\n    \"wall-geom*\",\n    \"()\",\n    \"thermal-bc\",\n    \"yes\",\n    \"convection\",\n    \"convective-heat-transfer-coefficient\",\n    \"no\",\n    100,\n    \"q\",\n)"
      ]
    },
    {
      "cell_type": "markdown",
      "metadata": {},
      "source": [
        "### Initialize\nInitialize with 300 K temperature\n\n"
      ]
    },
    {
      "cell_type": "code",
      "execution_count": null,
      "metadata": {
        "collapsed": false
      },
      "outputs": [],
      "source": [
        "session.settings.solution.initialization.initialization_type = \"standard\"\nsession.settings.solution.initialization.standard_initialize()"
      ]
    },
    {
      "cell_type": "markdown",
      "metadata": {},
      "source": [
        "### Post processing setup\n* Report definitions and monitor plots\n* Set contour plot properties\n* Set views and camera\n* Set animation object\n\n"
      ]
    },
    {
      "cell_type": "code",
      "execution_count": null,
      "metadata": {
        "collapsed": false
      },
      "outputs": [],
      "source": [
        "session.settings.solution.report_definitions.volume[\"max-pad-temperature\"] = {}\nsession.settings.solution.report_definitions.volume[\n    \"max-pad-temperature\"\n].report_type = \"volume-max\"\nsession.settings.solution.report_definitions.volume[\"max-pad-temperature\"] = {\n    \"field\": \"temperature\",\n    \"cell_zones\": [\"geom-1-innerpad\", \"geom-1-outerpad\"],\n}\n\nsession.settings.solution.report_definitions.volume[\"max-disc-temperature\"] = {}\nsession.settings.solution.report_definitions.volume[\n    \"max-disc-temperature\"\n].report_type = \"volume-max\"\nsession.settings.solution.report_definitions.volume[\"max-disc-temperature\"] = {\n    \"field\": \"temperature\",\n    \"cell_zones\": [\"disc1\", \"disc2\"],\n}\n\nsession.settings.solution.monitor.report_plots.create(name=\"max-temperature\")\nsession.settings.solution.monitor.report_plots[\"max-temperature\"] = {\n    \"report_defs\": [\"max-pad-temperature\", \"max-disc-temperature\"]\n}\n\nreport_file_path = Path(save_path) / \"max-temperature.out\"\nsession.settings.solution.monitor.report_files.create(name=\"max-temperature\")\nsession.settings.solution.monitor.report_files[\"max-temperature\"] = {\n    \"report_defs\": [\"max-pad-temperature\", \"max-disc-temperature\"],\n    \"file_name\": str(report_file_path),\n}\nsession.settings.solution.monitor.report_files[\"max-temperature\"].report_defs = [\n    \"max-pad-temperature\",\n    \"max-disc-temperature\",\n    \"flow-time\",\n]\n\nsession.settings.results.graphics.contour.create(name=\"contour-1\")\nsession.settings.results.graphics.contour[\"contour-1\"] = {\n    \"boundary_values\": True,\n    \"range_option\": {\"auto_range_on\": {\"global_range\": True}},\n    \"field\": \"temperature\",\n    \"draw_mesh\": False,\n    \"coloring\": {\"smooth\": False},\n    \"color_map\": {\n        \"user_skip\": 9,\n        \"log_scale\": False,\n        \"visible\": True,\n        \"width\": 6,\n        \"show_all\": True,\n        \"font_name\": \"Helvetica\",\n        \"font_size\": 0.032,\n        \"font_automatic\": True,\n        \"length\": 0.54,\n        \"size\": 100,\n        \"format\": \"%0.2e\",\n        \"position\": 1,\n        \"color\": \"field-velocity\",\n    },\n    \"mesh_object\": \"\",\n    \"node_values\": True,\n    \"contour_lines\": False,\n    \"display_state_name\": \"None\",\n    \"filled\": True,\n}\n\nsession.settings.results.graphics.contour[\"temperature\"] = {}\nsession.settings.results.graphics.contour[\"temperature\"] = {\n    \"field\": \"temperature\",\n    \"surfaces_list\": \"wall*\",\n    \"color_map\": {\n        \"visible\": True,\n        \"size\": 100,\n        \"color\": \"field-velocity\",\n        \"log_scale\": False,\n        \"format\": \"%0.1f\",\n        \"user_skip\": 9,\n        \"show_all\": True,\n        \"position\": 1,\n        \"font_name\": \"Helvetica\",\n        \"font_automatic\": True,\n        \"font_size\": 0.032,\n        \"length\": 0.54,\n        \"width\": 6,\n        \"bground_transparent\": True,\n        \"bground_color\": \"#CCD3E2\",\n        \"title_elements\": \"Variable and Object Name\",\n    },\n    \"range_option\": {\n        \"option\": \"auto-range-off\",\n        \"auto_range_off\": {\"maximum\": 400.0, \"minimum\": 300, \"clip_to_range\": False},\n    },\n}\n\nsession.settings.results.graphics.views.restore_view(view_name=\"top\")\nsession.settings.results.graphics.views.camera.zoom(factor=2)\nsession.settings.results.graphics.views.save_view(view_name=\"animation-view\")\n\nsession.settings.solution.calculation_activity.solution_animations[\n    \"animate-temperature\"\n] = {}\nsession.settings.solution.calculation_activity.solution_animations[\n    \"animate-temperature\"\n] = {\n    \"animate_on\": \"temperature\",\n    \"frequency_of\": \"flow-time\",\n    \"flow_time_frequency\": 0.05,\n    \"view\": \"animation-view\",\n}"
      ]
    },
    {
      "cell_type": "markdown",
      "metadata": {},
      "source": [
        "### Run simulation\n* Run simulation for 2 seconds flow time\n* Set time step size\n* Set number of time steps and maximum number of iterations per time step\n\n"
      ]
    },
    {
      "cell_type": "code",
      "execution_count": null,
      "metadata": {
        "collapsed": false
      },
      "outputs": [],
      "source": [
        "session.settings.solution.run_calculation.transient_controls.time_step_size = 0.01\nsession.settings.solution.run_calculation.dual_time_iterate(\n    time_step_count=200, max_iter_per_step=5\n)"
      ]
    },
    {
      "cell_type": "markdown",
      "metadata": {},
      "source": [
        "### Save simulation data\nWrite case and data files\n\n"
      ]
    },
    {
      "cell_type": "code",
      "execution_count": null,
      "metadata": {
        "collapsed": false
      },
      "outputs": [],
      "source": [
        "save_case_data_as = Path(save_path) / \"brake-final.cas.h5\"\nsession.settings.file.write(file_type=\"case-data\", file_name=str(save_case_data_as))"
      ]
    },
    {
      "cell_type": "markdown",
      "metadata": {},
      "source": [
        "## Post processing with PyVista (3D visualization)\n\n"
      ]
    },
    {
      "cell_type": "markdown",
      "metadata": {},
      "source": [
        "### Create a graphics session\n\n"
      ]
    },
    {
      "cell_type": "code",
      "execution_count": null,
      "metadata": {
        "collapsed": false
      },
      "outputs": [],
      "source": [
        "graphics_session1 = pv.Graphics(session)"
      ]
    },
    {
      "cell_type": "markdown",
      "metadata": {},
      "source": [
        "### Temperature contour object\n\n"
      ]
    },
    {
      "cell_type": "code",
      "execution_count": null,
      "metadata": {
        "collapsed": false
      },
      "outputs": [],
      "source": [
        "contour1 = graphics_session1.Contours[\"temperature\"]"
      ]
    },
    {
      "cell_type": "markdown",
      "metadata": {},
      "source": [
        "### Check available options for contour object\n\n"
      ]
    },
    {
      "cell_type": "code",
      "execution_count": null,
      "metadata": {
        "collapsed": false
      },
      "outputs": [],
      "source": [
        "contour1()"
      ]
    },
    {
      "cell_type": "markdown",
      "metadata": {},
      "source": [
        "### Set contour properties\n\n"
      ]
    },
    {
      "cell_type": "code",
      "execution_count": null,
      "metadata": {
        "collapsed": false
      },
      "outputs": [],
      "source": [
        "contour1.field = \"temperature\"\ncontour1.surfaces_list = [\n    \"wall-disc1\",\n    \"wall-disc2\",\n    \"wall-pad-disc2\",\n    \"wall_pad-disc1\",\n    \"wall-geom-1-bp_inner\",\n    \"wall-geom-1-bp_outer\",\n    \"wall-geom-1-innerpad\",\n    \"wall-geom-1-outerpad\",\n]\ncontour1.range.option = \"auto-range-off\"\ncontour1()\ncontour1.range.auto_range_off.minimum = 300\ncontour1.range.auto_range_off.maximum = 400"
      ]
    },
    {
      "cell_type": "markdown",
      "metadata": {},
      "source": [
        "### Display contour\n\n"
      ]
    },
    {
      "cell_type": "code",
      "execution_count": null,
      "metadata": {
        "collapsed": false
      },
      "outputs": [],
      "source": [
        "contour1.display()"
      ]
    },
    {
      "cell_type": "markdown",
      "metadata": {},
      "source": [
        "<img src=\"file://../../_static/brake_surface_temperature.png\" align=\"center\" alt=\"Brake Surface Temperature Contour\">\n\n"
      ]
    },
    {
      "cell_type": "markdown",
      "metadata": {},
      "source": [
        "Brake Surface Temperature\n\n"
      ]
    },
    {
      "cell_type": "markdown",
      "metadata": {},
      "source": [
        "## Post processing with Matplotlib (2D graph)\n\n"
      ]
    },
    {
      "cell_type": "markdown",
      "metadata": {},
      "source": [
        "### Read monitor file\n\n"
      ]
    },
    {
      "cell_type": "code",
      "execution_count": null,
      "metadata": {
        "collapsed": false
      },
      "outputs": [],
      "source": [
        "X = []\nY = []\nZ = []\ni = -1\nwith open(report_file_path, \"r\") as datafile:\n    plotting = csv.reader(datafile, delimiter=\" \")\n    for rows in plotting:\n        i = i + 1\n        if i > 2:\n            X.append(float(rows[3]))\n            Y.append(float(rows[2]))\n            Z.append(float(rows[1]))"
      ]
    },
    {
      "cell_type": "markdown",
      "metadata": {},
      "source": [
        "### Plot graph\n\n"
      ]
    },
    {
      "cell_type": "code",
      "execution_count": null,
      "metadata": {
        "collapsed": false
      },
      "outputs": [],
      "source": [
        "plt.title(\"Maximum Temperature\", fontdict={\"color\": \"darkred\", \"size\": 20})\nplt.plot(X, Z, label=\"Max. Pad Temperature\", color=\"red\")\nplt.plot(X, Y, label=\"Max. Disc Temperature\", color=\"blue\")\nplt.xlabel(\"Time (sec)\")\nplt.ylabel(\"Max Temperature (K)\")\nplt.legend(loc=\"lower right\", shadow=True, fontsize=\"x-large\")"
      ]
    },
    {
      "cell_type": "markdown",
      "metadata": {},
      "source": [
        "### Show graph\n\n"
      ]
    },
    {
      "cell_type": "code",
      "execution_count": null,
      "metadata": {
        "collapsed": false
      },
      "outputs": [],
      "source": [
        "plt.show()"
      ]
    },
    {
      "cell_type": "markdown",
      "metadata": {},
      "source": [
        "<img src=\"file://../../_static/brake_maximum_temperature.png\" align=\"center\" alt=\"Brake Maximum Temperature\">\n\n"
      ]
    },
    {
      "cell_type": "markdown",
      "metadata": {},
      "source": [
        "Brake Maximum Temperature\n\n"
      ]
    },
    {
      "cell_type": "markdown",
      "metadata": {},
      "source": [
        "## Close the session\n\n"
      ]
    },
    {
      "cell_type": "code",
      "execution_count": null,
      "metadata": {
        "collapsed": false
      },
      "outputs": [],
      "source": [
        "session.exit()"
      ]
    }
  ],
  "metadata": {
    "kernelspec": {
      "display_name": "Python 3",
      "language": "python",
      "name": "python3"
    },
    "language_info": {
      "codemirror_mode": {
        "name": "ipython",
        "version": 3
      },
      "file_extension": ".py",
      "mimetype": "text/x-python",
      "name": "python",
      "nbconvert_exporter": "python",
      "pygments_lexer": "ipython3",
      "version": "3.11.9"
    }
  },
  "nbformat": 4,
  "nbformat_minor": 0
}