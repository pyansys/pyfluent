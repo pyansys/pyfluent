{
  "cells": [
    {
      "cell_type": "markdown",
      "metadata": {},
      "source": [
        "\n# Parametric study workflow\nThis example shows how you can use the parametric study workflow to analyze a\nstatic mixer.\n"
      ]
    },
    {
      "cell_type": "code",
      "execution_count": null,
      "metadata": {
        "collapsed": false
      },
      "outputs": [],
      "source": [
        "from pathlib import Path\n\nimport ansys.fluent.core as pyfluent\nfrom ansys.fluent.core import examples"
      ]
    },
    {
      "cell_type": "markdown",
      "metadata": {},
      "source": [
        "## Perform required imports\nPerform the required imports.\n\n"
      ]
    },
    {
      "cell_type": "markdown",
      "metadata": {},
      "source": [
        "## Launch Fluent\nLaunch Fluent in 3D and double precision.\n\n"
      ]
    },
    {
      "cell_type": "code",
      "execution_count": null,
      "metadata": {
        "collapsed": false
      },
      "outputs": [],
      "source": [
        "solver_session = pyfluent.launch_fluent(\n    precision=\"double\", processor_count=2, mode=\"solver\"\n)"
      ]
    },
    {
      "cell_type": "markdown",
      "metadata": {},
      "source": [
        "## Download and read files\nDownload the files for this example and read the case for the static mixer.\n\n"
      ]
    },
    {
      "cell_type": "code",
      "execution_count": null,
      "metadata": {
        "collapsed": false
      },
      "outputs": [],
      "source": [
        "import_filename = examples.download_file(\n    \"Static_Mixer_main.cas.h5\",\n    \"pyfluent/static_mixer\",\n    return_without_path=False,\n)\n\nsolver_session.settings.file.read_case(file_name=import_filename)"
      ]
    },
    {
      "cell_type": "markdown",
      "metadata": {},
      "source": [
        "## Set iterations\nSet the number of iterations to 100.\n\n"
      ]
    },
    {
      "cell_type": "code",
      "execution_count": null,
      "metadata": {
        "collapsed": false
      },
      "outputs": [],
      "source": [
        "solver_session.settings.solution.run_calculation.iter_count = 100"
      ]
    },
    {
      "cell_type": "markdown",
      "metadata": {},
      "source": [
        "## Create input parameters\nEnable parameter creation in the TUI and then create input parameters for\nthe velocity and temperatures of inlets 1 and 2:\nParameter values:\nInlet1: velocity (inlet1_vel) 0.5 m/s and temperature (inlet1_temp) at 300 K\nInlet2: velocity (inlet2_vel) 0.5 m/s and temperature (inlet2_temp) at 350 K\n\n"
      ]
    },
    {
      "cell_type": "code",
      "execution_count": null,
      "metadata": {
        "collapsed": false
      },
      "outputs": [],
      "source": [
        "solver_session.settings.parameters.enable_in_tui = True\n\nsolver_session.settings.setup.named_expressions[\"inlet1_vel\"] = {\n    \"output_parameter\": False,\n    \"input_parameter\": True,\n    \"unit\": \"velocity\",\n    \"parametername\": \"inlet1_vel\",\n    \"parameterid\": \"real-1\",\n    \"description\": \"\",\n    \"definition\": \"1 [m/s]\",\n    \"name\": \"inlet1_vel\",\n}\n\nsolver_session.settings.setup.boundary_conditions.velocity_inlet[\"inlet1\"] = {\n    \"momentum\": {\"velocity\": {\"value\": \"inlet1_vel\"}}\n}\n\nsolver_session.settings.setup.named_expressions[\"inlet1_temp\"] = {\n    \"output_parameter\": False,\n    \"input_parameter\": True,\n    \"unit\": \"temperature\",\n    \"parametername\": \"inlet1_temp\",\n    \"parameterid\": \"real-2\",\n    \"description\": \"\",\n    \"definition\": \"300 [K]\",\n    \"name\": \"inlet1_temp\",\n}\n\nsolver_session.settings.setup.boundary_conditions.velocity_inlet[\"inlet1\"] = {\n    \"thermal\": {\"temperature\": {\"value\": \"inlet1_temp\"}}\n}\n\nsolver_session.settings.setup.named_expressions[\"inlet2_vel\"] = {\n    \"output_parameter\": False,\n    \"input_parameter\": True,\n    \"unit\": \"velocity\",\n    \"parametername\": \"inlet2_vel\",\n    \"parameterid\": \"real-3\",\n    \"description\": \"\",\n    \"definition\": \"1 [m/s]\",\n    \"name\": \"inlet2_vel\",\n}\n\nsolver_session.settings.setup.boundary_conditions.velocity_inlet[\"inlet2\"] = {\n    \"momentum\": {\"velocity\": {\"value\": \"inlet2_vel\"}}\n}\n\nsolver_session.settings.setup.named_expressions[\"inlet2_temp\"] = {\n    \"output_parameter\": False,\n    \"input_parameter\": True,\n    \"unit\": \"temperature\",\n    \"parametername\": \"inlet2_temp\",\n    \"parameterid\": \"real-4\",\n    \"description\": \"\",\n    \"definition\": \"350 [K]\",\n    \"name\": \"inlet2_temp\",\n}\n\nsolver_session.settings.setup.boundary_conditions.velocity_inlet[\"inlet2\"] = {\n    \"thermal\": {\"temperature\": {\"value\": \"inlet2_temp\"}}\n}"
      ]
    },
    {
      "cell_type": "markdown",
      "metadata": {},
      "source": [
        "## Create output parameters\nCreate output parameters named ``outlet-temp-avg`` and ``outlet-vel-avg``\nusing report definitions.\n\n"
      ]
    },
    {
      "cell_type": "code",
      "execution_count": null,
      "metadata": {
        "collapsed": false
      },
      "outputs": [],
      "source": [
        "solver_session.settings.solution.report_definitions.surface[\"outlet-temp-avg\"] = {}\nsolver_session.settings.solution.report_definitions.surface[\n    \"outlet-temp-avg\"\n].report_type = \"surface-areaavg\"\nsolver_session.settings.solution.report_definitions.surface[\"outlet-temp-avg\"].field = (\n    \"temperature\"\n)\nsolver_session.settings.solution.report_definitions.surface[\n    \"outlet-temp-avg\"\n].surface_names = [\"outlet\"]\n\nsolver_session.settings.solution.report_definitions.surface[\"outlet-vel-avg\"] = {}\nsolver_session.settings.solution.report_definitions.surface[\n    \"outlet-vel-avg\"\n].report_type = \"surface-areaavg\"\nsolver_session.settings.solution.report_definitions.surface[\"outlet-vel-avg\"].field = (\n    \"velocity-magnitude\"\n)\nsolver_session.settings.solution.report_definitions.surface[\n    \"outlet-vel-avg\"\n].surface_names = [\"outlet\"]\n\nsolver_session.settings.parameters.output_parameters.report_definitions[\n    \"parameter-5\"\n] = {}\nsolver_session.settings.parameters.output_parameters.report_definitions[\n    \"parameter-5\"\n] = {\"report_definition\": \"outlet-temp-avg\"}\n\nsolver_session.settings.parameters.output_parameters.report_definitions[\n    \"parameter-6\"\n] = {}\nsolver_session.settings.parameters.output_parameters.report_definitions[\n    \"parameter-6\"\n] = {\"report_definition\": \"outlet-vel-avg\"}"
      ]
    },
    {
      "cell_type": "markdown",
      "metadata": {},
      "source": [
        "## Enable convergence condition check\nEnable the convergence condition check.\n\n"
      ]
    },
    {
      "cell_type": "code",
      "execution_count": null,
      "metadata": {
        "collapsed": false
      },
      "outputs": [],
      "source": [
        "solver_session.settings.solution.monitor.residual.options.criterion_type = \"absolute\""
      ]
    },
    {
      "cell_type": "markdown",
      "metadata": {},
      "source": [
        "## Write case\nWrite the case with all settings in place.\n\n"
      ]
    },
    {
      "cell_type": "code",
      "execution_count": null,
      "metadata": {
        "collapsed": false
      },
      "outputs": [],
      "source": [
        "case_path = str(Path(pyfluent.EXAMPLES_PATH) / \"Static_Mixer_Parameters.cas.h5\")\nsolver_session.settings.file.write_case(file_name=case_path)"
      ]
    },
    {
      "cell_type": "markdown",
      "metadata": {},
      "source": [
        "## Initialize parametric study\nInitialize a parametric design point study from a Fluent session.\n\n"
      ]
    },
    {
      "cell_type": "code",
      "execution_count": null,
      "metadata": {
        "collapsed": false
      },
      "outputs": [],
      "source": [
        "solver_session.settings.parametric_studies.initialize(project_filename=\"project_1\")"
      ]
    },
    {
      "cell_type": "markdown",
      "metadata": {},
      "source": [
        "<img src=\"file://_static/DP_table_011.png\" width=\"500pt\" align=\"center\">\n\n"
      ]
    },
    {
      "cell_type": "markdown",
      "metadata": {},
      "source": [
        "## Access and modify input parameters\nAccess and modify the input parameters of the base design point.\n\n"
      ]
    },
    {
      "cell_type": "code",
      "execution_count": null,
      "metadata": {
        "collapsed": false
      },
      "outputs": [],
      "source": [
        "solver_session.settings.parametric_studies[\"Static_Mixer_main-Solve\"].design_points[\n    \"Base DP\"\n].input_parameters = {\n    \"inlet1_temp\": 300,\n    \"inlet2_temp\": 350,\n    \"inlet2_vel\": 1,\n    \"inlet1_vel\": 0.5,\n}"
      ]
    },
    {
      "cell_type": "markdown",
      "metadata": {},
      "source": [
        "## Update current design point\nUpdate the current design point.\n\n"
      ]
    },
    {
      "cell_type": "code",
      "execution_count": null,
      "metadata": {
        "collapsed": false
      },
      "outputs": [],
      "source": [
        "solver_session.settings.parametric_studies[\n    \"Static_Mixer_main-Solve\"\n].design_points.update_current()"
      ]
    },
    {
      "cell_type": "markdown",
      "metadata": {},
      "source": [
        "## Add design point\nAdd a design point.\n\n"
      ]
    },
    {
      "cell_type": "code",
      "execution_count": null,
      "metadata": {
        "collapsed": false
      },
      "outputs": [],
      "source": [
        "solver_session.settings.parametric_studies[\n    \"Static_Mixer_main-Solve\"\n].design_points.create_1(write_data=False, capture_simulation_report_data=True)\n\nsolver_session.settings.parametric_studies[\"Static_Mixer_main-Solve\"].design_points[\n    \"DP1\"\n].input_parameters = {\n    \"inlet1_vel\": 1,\n    \"inlet2_vel\": 1,\n    \"inlet1_temp\": 500,\n    \"inlet2_temp\": 350,\n}"
      ]
    },
    {
      "cell_type": "markdown",
      "metadata": {},
      "source": [
        "## Duplicate design point\nDuplicate design point 1 to create design point 2.\n\n"
      ]
    },
    {
      "cell_type": "code",
      "execution_count": null,
      "metadata": {
        "collapsed": false
      },
      "outputs": [],
      "source": [
        "solver_session.settings.parametric_studies[\n    \"Static_Mixer_main-Solve\"\n].design_points.duplicate(design_point=\"DP1\")"
      ]
    },
    {
      "cell_type": "markdown",
      "metadata": {},
      "source": [
        "## Update all design points\nUpdate all design points.\n\n"
      ]
    },
    {
      "cell_type": "code",
      "execution_count": null,
      "metadata": {
        "collapsed": false
      },
      "outputs": [],
      "source": [
        "solver_session.settings.parametric_studies[\n    \"Static_Mixer_main-Solve\"\n].design_points.update_all()"
      ]
    },
    {
      "cell_type": "markdown",
      "metadata": {},
      "source": [
        "<img src=\"file://_static/DP_table_012.png\" width=\"500pt\" align=\"center\">\n\n"
      ]
    },
    {
      "cell_type": "markdown",
      "metadata": {},
      "source": [
        "## Export design point table\nExport the design point table to a CSV file.\n\n"
      ]
    },
    {
      "cell_type": "code",
      "execution_count": null,
      "metadata": {
        "collapsed": false
      },
      "outputs": [],
      "source": [
        "design_point_table = str(\n    Path(pyfluent.EXAMPLES_PATH) / \"design_point_table_study_1.csv\"\n)\n\nsolver_session.settings.parametric_studies.export_design_table(\n    filepath=design_point_table\n)"
      ]
    },
    {
      "cell_type": "markdown",
      "metadata": {},
      "source": [
        "## Delete design point\nDelete design point 1.\n\n"
      ]
    },
    {
      "cell_type": "code",
      "execution_count": null,
      "metadata": {
        "collapsed": false
      },
      "outputs": [],
      "source": [
        "solver_session.settings.parametric_studies[\n    \"Static_Mixer_main-Solve\"\n].design_points.delete_design_points(design_points=[\"DP1\"])"
      ]
    },
    {
      "cell_type": "markdown",
      "metadata": {},
      "source": [
        "## Create parametric study\nCreate another parametric study by duplicating the current one.\n\n"
      ]
    },
    {
      "cell_type": "code",
      "execution_count": null,
      "metadata": {
        "collapsed": false
      },
      "outputs": [],
      "source": [
        "solver_session.settings.parametric_studies.duplicate(copy_design_points=True)"
      ]
    },
    {
      "cell_type": "markdown",
      "metadata": {},
      "source": [
        "## Rename new parametric study\nRename the newly created parametric study.\n\n"
      ]
    },
    {
      "cell_type": "code",
      "execution_count": null,
      "metadata": {
        "collapsed": false
      },
      "outputs": [],
      "source": [
        "solver_session.settings.parametric_studies.rename(\n    new=\"New Study\", old=\"Static_Mixer_main-1-Solve\"\n)"
      ]
    },
    {
      "cell_type": "markdown",
      "metadata": {},
      "source": [
        "## Delete old parametric study\nDelete the old parametric study.\n\n"
      ]
    },
    {
      "cell_type": "code",
      "execution_count": null,
      "metadata": {
        "collapsed": false
      },
      "outputs": [],
      "source": [
        "solver_session.settings.parametric_studies.delete(name_list=\"Static_Mixer_main-Solve\")"
      ]
    },
    {
      "cell_type": "markdown",
      "metadata": {},
      "source": [
        "## Save parametric project and close Fluent\nSave the parametric project and close Fluent.\n\n"
      ]
    },
    {
      "cell_type": "code",
      "execution_count": null,
      "metadata": {
        "collapsed": false
      },
      "outputs": [],
      "source": [
        "project_filepath = str(Path(pyfluent.EXAMPLES_PATH) / \"static_mixer_study_save.flprj\")\n\nsolver_session.settings.file.parametric_project.save_as(\n    project_filename=project_filepath\n)\n\nsolver_session.exit()"
      ]
    },
    {
      "cell_type": "markdown",
      "metadata": {},
      "source": [
        "## Launch Fluent and read saved project\nLaunch Fluent once again and read the previously saved project.\n\n"
      ]
    },
    {
      "cell_type": "code",
      "execution_count": null,
      "metadata": {
        "collapsed": false
      },
      "outputs": [],
      "source": [
        "solver_session = pyfluent.launch_fluent(\n    precision=\"double\", processor_count=2, mode=\"solver\"\n)\n\nproject_filepath_read = str(Path(pyfluent.EXAMPLES_PATH) / \"static_mixer_study.flprj\")\n\nsolver_session.settings.file.parametric_project.open(\n    project_filename=project_filepath_read, load_case=True\n)"
      ]
    },
    {
      "cell_type": "markdown",
      "metadata": {},
      "source": [
        "## Save current project\nSave the current project.\n\n"
      ]
    },
    {
      "cell_type": "code",
      "execution_count": null,
      "metadata": {
        "collapsed": false
      },
      "outputs": [],
      "source": [
        "solver_session.settings.file.parametric_project.save()"
      ]
    },
    {
      "cell_type": "markdown",
      "metadata": {},
      "source": [
        "## Save current project as a different project\nSave the current project as a different project.\n\n"
      ]
    },
    {
      "cell_type": "code",
      "execution_count": null,
      "metadata": {
        "collapsed": false
      },
      "outputs": [],
      "source": [
        "project_filepath_save_as = str(\n    Path(pyfluent.EXAMPLES_PATH) / \"static_mixer_study_save_as.flprj\"\n)\n\nsolver_session.settings.file.parametric_project.save_as(\n    project_filename=project_filepath_save_as\n)"
      ]
    },
    {
      "cell_type": "markdown",
      "metadata": {},
      "source": [
        "## Export current project\nExport the current project.\n\n"
      ]
    },
    {
      "cell_type": "code",
      "execution_count": null,
      "metadata": {
        "collapsed": false
      },
      "outputs": [],
      "source": [
        "project_filepath_export = str(\n    Path(pyfluent.EXAMPLES_PATH) / \"static_mixer_study_export.flprj\"\n)\n\nsolver_session.settings.file.parametric_project.save_as_copy(\n    project_filename=project_filepath_export, convert_to_managed=False\n)"
      ]
    },
    {
      "cell_type": "markdown",
      "metadata": {},
      "source": [
        "## Archive current project\nArchive the current project.\n\n"
      ]
    },
    {
      "cell_type": "code",
      "execution_count": null,
      "metadata": {
        "collapsed": false
      },
      "outputs": [],
      "source": [
        "project_filepath_archive = str(\n    Path(pyfluent.EXAMPLES_PATH) / \"static_mixer_study_archive.flprj\"\n)\n\nsolver_session.settings.file.parametric_project.archive(\n    archive_name=project_filepath_archive\n)"
      ]
    },
    {
      "cell_type": "markdown",
      "metadata": {},
      "source": [
        "## Close Fluent\nClose Fluent.\n\n"
      ]
    },
    {
      "cell_type": "code",
      "execution_count": null,
      "metadata": {
        "collapsed": false
      },
      "outputs": [],
      "source": [
        "solver_session.exit()"
      ]
    }
  ],
  "metadata": {
    "kernelspec": {
      "display_name": "Python 3",
      "language": "python",
      "name": "python3"
    },
    "language_info": {
      "codemirror_mode": {
        "name": "ipython",
        "version": 3
      },
      "file_extension": ".py",
      "mimetype": "text/x-python",
      "name": "python",
      "nbconvert_exporter": "python",
      "pygments_lexer": "ipython3",
      "version": "3.11.9"
    }
  },
  "nbformat": 4,
  "nbformat_minor": 0
}