{
  "cells": [
    {
      "cell_type": "markdown",
      "metadata": {},
      "source": [
        "\n# Fluent setup and solution using settings objects\nThis example sets up and solves a three-dimensional turbulent fluid flow\nand heat transfer problem in a mixing elbow, which is common in piping\nsystems in power plants and process industries. Predicting the flow field\nand temperature field in the area of the mixing region is important to\ndesigning the junction properly.\n\nThis example uses settings objects.\n\n**Problem description**\n\nA cold fluid at 20 deg C flows into the pipe through a large inlet. It then mixes\nwith a warmer fluid at 40 deg C that enters through a smaller inlet located at\nthe elbow. The pipe dimensions are in inches, and the fluid properties and\nboundary conditions are given in SI units. Because the Reynolds number for the\nflow at the larger inlet is ``50, 800``, a turbulent flow model is required.\n"
      ]
    },
    {
      "cell_type": "markdown",
      "metadata": {},
      "source": [
        "## Perform required imports\nPerform required imports, which includes downloading and importing\nthe geometry file.\n\n"
      ]
    },
    {
      "cell_type": "code",
      "execution_count": null,
      "metadata": {
        "collapsed": false
      },
      "outputs": [],
      "source": [
        "import ansys.fluent.core as pyfluent\nfrom ansys.fluent.core import examples\n\nimport_file_name = examples.download_file(\n    \"mixing_elbow.msh.h5\", \"pyfluent/mixing_elbow\"\n)"
      ]
    },
    {
      "cell_type": "markdown",
      "metadata": {},
      "source": [
        "## Launch Fluent\nLaunch Fluent as a service in solver mode with double precision running on\ntwo processors.\n\n"
      ]
    },
    {
      "cell_type": "code",
      "execution_count": null,
      "metadata": {
        "collapsed": false
      },
      "outputs": [],
      "source": [
        "solver = pyfluent.launch_fluent(\n    precision=\"double\",\n    processor_count=2,\n    mode=\"solver\",\n)"
      ]
    },
    {
      "cell_type": "markdown",
      "metadata": {},
      "source": [
        "## Import mesh and perform mesh check\nImport the mesh and perform a mesh check, which lists the minimum and maximum\nx, y, and z values from the mesh in the default SI units of meters. The mesh\ncheck also reports a number of other mesh features that are checked. Any errors\nin the mesh are reported. Ensure that the minimum volume is not negative because\nFluent cannot begin a calculation when this is the case.\n\n"
      ]
    },
    {
      "cell_type": "code",
      "execution_count": null,
      "metadata": {
        "collapsed": false
      },
      "outputs": [],
      "source": [
        "solver.file.read_case(file_name=import_file_name)\nsolver.mesh.check()"
      ]
    },
    {
      "cell_type": "markdown",
      "metadata": {},
      "source": [
        "## Enable heat transfer\nEnable heat transfer by activating the energy equation.\n\n"
      ]
    },
    {
      "cell_type": "code",
      "execution_count": null,
      "metadata": {
        "collapsed": false
      },
      "outputs": [],
      "source": [
        "solver.setup.models.energy.enabled = True"
      ]
    },
    {
      "cell_type": "markdown",
      "metadata": {},
      "source": [
        "## Create material\nCreate a material named ``\"water-liquid\"``.\n\n"
      ]
    },
    {
      "cell_type": "code",
      "execution_count": null,
      "metadata": {
        "collapsed": false
      },
      "outputs": [],
      "source": [
        "solver.setup.materials.database.copy_by_name(type=\"fluid\", name=\"water-liquid\")"
      ]
    },
    {
      "cell_type": "markdown",
      "metadata": {},
      "source": [
        "## Set up cell zone conditions\nSet up the cell zone conditions for the fluid zone (``elbow-fluid``). Set ``material``\nto ``\"water-liquid\"``.\n\n"
      ]
    },
    {
      "cell_type": "code",
      "execution_count": null,
      "metadata": {
        "collapsed": false
      },
      "outputs": [],
      "source": [
        "solver.setup.cell_zone_conditions.fluid[\"elbow-fluid\"].material = \"water-liquid\""
      ]
    },
    {
      "cell_type": "markdown",
      "metadata": {},
      "source": [
        "## Set up boundary conditions for CFD analysis\nSet up the boundary conditions for the inlets, outlet, and walls for CFD\nanalysis.\n\n"
      ]
    },
    {
      "cell_type": "code",
      "execution_count": null,
      "metadata": {
        "collapsed": false
      },
      "outputs": [],
      "source": [
        "# cold inlet (cold-inlet), Setting: Value:\n# Velocity Specification Method: Magnitude, Normal to Boundary\n# Velocity Magnitude: 0.4 [m/s]\n# Specification Method: Intensity and Hydraulic Diameter\n# Turbulent Intensity: 5 [%]\n# Hydraulic Diameter: 4 [inch]\n# Temperature: 293.15 [K]\ncold_inlet = solver.setup.boundary_conditions.velocity_inlet[\"cold-inlet\"]\n\ncold_inlet.momentum.velocity.value = 0.4\ncold_inlet.turbulence.turbulent_specification = \"Intensity and Hydraulic Diameter\"\ncold_inlet.turbulence.turbulent_intensity = 0.05\ncold_inlet.turbulence.hydraulic_diameter = \"4 [in]\"\ncold_inlet.thermal.t.value = 293.15\n\n# hot inlet (hot-inlet), Setting: Value:\n# Velocity Specification Method: Magnitude, Normal to Boundary\n# Velocity Magnitude: 1.2 [m/s]\n# Specification Method: Intensity and Hydraulic Diameter\n# Turbulent Intensity: 5 [%]\n# Hydraulic Diameter: 1 [inch]\n# Temperature: 313.15 [K]\nhot_inlet = solver.setup.boundary_conditions.velocity_inlet[\"hot-inlet\"]\n\nhot_inlet.momentum.velocity.value = 1.2\nhot_inlet.turbulence.turbulent_specification = \"Intensity and Hydraulic Diameter\"\nhot_inlet.turbulence.hydraulic_diameter = \"1 [in]\"\nhot_inlet.thermal.t.value = 313.15\n\n# pressure outlet (outlet), Setting: Value:\n# Backflow Turbulent Intensity: 5 [%]\n# Backflow Turbulent Viscosity Ratio: 4\n\nsolver.setup.boundary_conditions.pressure_outlet[\n    \"outlet\"\n].turbulence.turbulent_viscosity_ratio_real = 4"
      ]
    },
    {
      "cell_type": "markdown",
      "metadata": {},
      "source": [
        "## Disable plotting of residuals during calculation\nDisable plotting of residuals during the calculation.\n\n"
      ]
    },
    {
      "cell_type": "code",
      "execution_count": null,
      "metadata": {
        "collapsed": false
      },
      "outputs": [],
      "source": [
        "solver.solution.monitor.residual.options.plot = False"
      ]
    },
    {
      "cell_type": "markdown",
      "metadata": {},
      "source": [
        "## Initialize flow field\nInitialize the flow field using hybrid initialization.\n\n"
      ]
    },
    {
      "cell_type": "code",
      "execution_count": null,
      "metadata": {
        "collapsed": false
      },
      "outputs": [],
      "source": [
        "solver.solution.initialization.hybrid_initialize()"
      ]
    },
    {
      "cell_type": "markdown",
      "metadata": {},
      "source": [
        "## Solve for 150 iterations\nSolve for 150 iterations.\n\n"
      ]
    },
    {
      "cell_type": "code",
      "execution_count": null,
      "metadata": {
        "collapsed": false
      },
      "outputs": [],
      "source": [
        "solver.solution.run_calculation.iterate(iter_count=150)"
      ]
    },
    {
      "cell_type": "markdown",
      "metadata": {},
      "source": [
        "## Configure graphics picture export\nSince Fluent is being run without the GUI, we will need to export plots as\npicture files. Edit the picture settings to use a custom resolution so that\nthe images are large enough.\n\n"
      ]
    },
    {
      "cell_type": "code",
      "execution_count": null,
      "metadata": {
        "collapsed": false
      },
      "outputs": [],
      "source": [
        "graphics = solver.results.graphics\n# use_window_resolution option not available inside containers\nif not solver.connection_properties.inside_container:\n    graphics.picture.use_window_resolution = False\ngraphics.picture.x_resolution = 1920\ngraphics.picture.y_resolution = 1440"
      ]
    },
    {
      "cell_type": "markdown",
      "metadata": {},
      "source": [
        "## Create velocity vectors\nCreate and display velocity vectors on the ``symmetry-xyplane`` plane, then\nexport the image for inspection.\n\n"
      ]
    },
    {
      "cell_type": "code",
      "execution_count": null,
      "metadata": {
        "collapsed": false
      },
      "outputs": [],
      "source": [
        "graphics = solver.results.graphics\n\ngraphics.vector[\"velocity_vector_symmetry\"] = {}\nvelocity_symmetry = solver.results.graphics.vector[\"velocity_vector_symmetry\"]\nvelocity_symmetry.print_state()\nvelocity_symmetry.field = \"velocity-magnitude\"\nvelocity_symmetry.surfaces_list = [\n    \"symmetry-xyplane\",\n]\nvelocity_symmetry.scale.scale_f = 4\nvelocity_symmetry.style = \"arrow\"\nvelocity_symmetry.display()\n\ngraphics.views.restore_view(view_name=\"front\")\ngraphics.views.auto_scale()\ngraphics.picture.save_picture(file_name=\"velocity_vector_symmetry.png\")"
      ]
    },
    {
      "cell_type": "markdown",
      "metadata": {},
      "source": [
        "<img src=\"file://_static/mixing_elbow_016.png\" width=\"500pt\" align=\"center\">\n\n"
      ]
    },
    {
      "cell_type": "markdown",
      "metadata": {},
      "source": [
        "## Compute mass flow rate\nCompute the mass flow rate.\n\n"
      ]
    },
    {
      "cell_type": "code",
      "execution_count": null,
      "metadata": {
        "collapsed": false
      },
      "outputs": [],
      "source": [
        "solver.solution.report_definitions.flux[\"mass_flow_rate\"] = {}\n\nmass_flow_rate = solver.solution.report_definitions.flux[\"mass_flow_rate\"]\nmass_flow_rate.boundaries.allowed_values()\nmass_flow_rate.boundaries = [\n    \"cold-inlet\",\n    \"hot-inlet\",\n    \"outlet\",\n]\nmass_flow_rate.print_state()\nsolver.solution.report_definitions.compute(report_defs=[\"mass_flow_rate\"])"
      ]
    },
    {
      "cell_type": "markdown",
      "metadata": {},
      "source": [
        "## Close Fluent\nClose Fluent.\n\n"
      ]
    },
    {
      "cell_type": "code",
      "execution_count": null,
      "metadata": {
        "collapsed": false
      },
      "outputs": [],
      "source": [
        "solver.exit()"
      ]
    }
  ],
  "metadata": {
    "kernelspec": {
      "display_name": "Python 3",
      "language": "python",
      "name": "python3"
    },
    "language_info": {
      "codemirror_mode": {
        "name": "ipython",
        "version": 3
      },
      "file_extension": ".py",
      "mimetype": "text/x-python",
      "name": "python",
      "nbconvert_exporter": "python",
      "pygments_lexer": "ipython3",
      "version": "3.10.9"
    }
  },
  "nbformat": 4,
  "nbformat_minor": 0
}